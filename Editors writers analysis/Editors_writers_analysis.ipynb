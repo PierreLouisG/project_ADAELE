{
 "cells": [
  {
   "cell_type": "code",
   "execution_count": 1,
   "metadata": {},
   "outputs": [],
   "source": [
    "# Import libraries\n",
    "import matplotlib.pyplot as plt\n",
    "import pandas as pd\n",
    "import numpy as np\n",
    "import requests\n",
    "import pickle\n",
    "import re\n",
    "from bs4 import BeautifulSoup\n",
    "from sys import stdout"
   ]
  },
  {
   "cell_type": "code",
   "execution_count": 2,
   "metadata": {},
   "outputs": [],
   "source": [
    "def save_to_pickle(file,name):\n",
    "    with open(name + '.txt', 'wb') as f:\n",
    "        pickle.dump(file, f)"
   ]
  },
  {
   "cell_type": "markdown",
   "metadata": {},
   "source": [
    "# Marvel editors and writers"
   ]
  },
  {
   "cell_type": "code",
   "execution_count": 111,
   "metadata": {},
   "outputs": [],
   "source": [
    "with open('marvel_comics_editor_writer.txt', 'rb') as f:\n",
    "    marvel_ed_wr = pickle.load(f)"
   ]
  },
  {
   "cell_type": "code",
   "execution_count": 156,
   "metadata": {
    "scrolled": true
   },
   "outputs": [
    {
     "data": {
      "text/html": [
       "<div>\n",
       "<style scoped>\n",
       "    .dataframe tbody tr th:only-of-type {\n",
       "        vertical-align: middle;\n",
       "    }\n",
       "\n",
       "    .dataframe tbody tr th {\n",
       "        vertical-align: top;\n",
       "    }\n",
       "\n",
       "    .dataframe thead th {\n",
       "        text-align: right;\n",
       "    }\n",
       "</style>\n",
       "<table border=\"1\" class=\"dataframe\">\n",
       "  <thead>\n",
       "    <tr style=\"text-align: right;\">\n",
       "      <th></th>\n",
       "      <th>URL</th>\n",
       "      <th>Gender</th>\n",
       "      <th>Birth</th>\n",
       "      <th>Death</th>\n",
       "    </tr>\n",
       "  </thead>\n",
       "  <tbody>\n",
       "    <tr>\n",
       "      <td>0</td>\n",
       "      <td>/wiki/Joe_Caramagna</td>\n",
       "      <td>Male</td>\n",
       "      <td></td>\n",
       "      <td></td>\n",
       "    </tr>\n",
       "    <tr>\n",
       "      <td>0</td>\n",
       "      <td>/wiki/Stan_Lee_(Earth-1218)</td>\n",
       "      <td>Male</td>\n",
       "      <td>December 28, 1922</td>\n",
       "      <td>November 12, 2018</td>\n",
       "    </tr>\n",
       "    <tr>\n",
       "      <td>0</td>\n",
       "      <td>/wiki/Larry_Lieber</td>\n",
       "      <td>Male</td>\n",
       "      <td>October 26, 1931</td>\n",
       "      <td></td>\n",
       "    </tr>\n",
       "    <tr>\n",
       "      <td>0</td>\n",
       "      <td>/wiki/Paul_Gustavson</td>\n",
       "      <td>Male</td>\n",
       "      <td>August 16, 1916</td>\n",
       "      <td>April 29, 1977</td>\n",
       "    </tr>\n",
       "    <tr>\n",
       "      <td>0</td>\n",
       "      <td>/wiki/Ray_Gill</td>\n",
       "      <td>Male</td>\n",
       "      <td></td>\n",
       "      <td></td>\n",
       "    </tr>\n",
       "  </tbody>\n",
       "</table>\n",
       "</div>"
      ],
      "text/plain": [
       "                           URL Gender              Birth              Death\n",
       "0          /wiki/Joe_Caramagna   Male                                      \n",
       "0  /wiki/Stan_Lee_(Earth-1218)   Male  December 28, 1922  November 12, 2018\n",
       "0           /wiki/Larry_Lieber   Male   October 26, 1931                   \n",
       "0         /wiki/Paul_Gustavson   Male    August 16, 1916     April 29, 1977\n",
       "0               /wiki/Ray_Gill   Male                                      "
      ]
     },
     "execution_count": 156,
     "metadata": {},
     "output_type": "execute_result"
    }
   ],
   "source": [
    "new_columns = ['URL', 'Gender', 'Birth', 'Death']\n",
    "gender_ed_wr = pd.DataFrame(columns=new_columns)\n",
    "\n",
    "for URL in marvel_ed_wr['Writer URL'].unique():\n",
    "    if (URL is not '') and ('/wiki/' in URL):\n",
    "        if URL[0] is not '/':\n",
    "            URL = URL[1:]\n",
    "            \n",
    "        # Initialize variables\n",
    "        gender, birth, death = '', '', ''\n",
    "\n",
    "        # Get URL and use html parser\n",
    "        URL = 'https://marvel.fandom.com' + URL\n",
    "\n",
    "        r = requests.get(URL)\n",
    "        page_body = r.text\n",
    "\n",
    "        soup = BeautifulSoup(page_body, 'html.parser')\n",
    "\n",
    "        # If URL links to the Editor/Writer main page\n",
    "        if soup.find_all('span', style='font-weight:bold;'):\n",
    "            span = soup.find_all('span', style='font-weight:bold;')\n",
    "            if span:\n",
    "                a = span[0].find_all('a', href=True)\n",
    "                if a:\n",
    "                    URL = 'https://marvel.fandom.com' + a[0]['href']\n",
    "                    # html parser on the real page\n",
    "                    r = requests.get(URL)\n",
    "                    page_body = r.text\n",
    "\n",
    "                    soup = BeautifulSoup(page_body, 'html.parser')\n",
    "\n",
    "        # Special case\n",
    "        if '/wiki/User:Ultimantium' in URL:\n",
    "            gender = 'Male'\n",
    "\n",
    "        URL = URL.replace('https://marvel.fandom.com','')\n",
    "\n",
    "        # Parsing\n",
    "        side_tab = soup.find_all('div', class_='infobox')\n",
    "\n",
    "        # Gender\n",
    "        for p in side_tab:\n",
    "            for pp in p.find_all('div', style='clear:left;font-size:10px;text-align:center;border-top:1px solid #B5B7CF;'):\n",
    "                for ppp in pp.find_all('div', style='width:90px;float:left;text-align:left;'):\n",
    "                    if(ppp.text==\"Gender\"):\n",
    "                        if pp.find('div', style='width:160px;float:left;text-align:right;'):\n",
    "                            gender = pp.find('div', style='width:160px;float:left;text-align:right;').text\n",
    "                            \n",
    "        # Birth and death dates\n",
    "        for pp in p.find_all('div', style=\"width:125px;float:left;clear:left;border-top:1px solid #B5B7CF;\"):\n",
    "            if pp:\n",
    "                birth = pp.text\n",
    "        for pp in p.find_all('div', style=\"width:125px;float:left;border-top:1px solid #B5B7CF;\"):\n",
    "            if pp:\n",
    "                death = pp.text\n",
    "\n",
    "        if URL not in gender_ed_wr['URL'].unique():\n",
    "            editor = pd.DataFrame([[URL, gender, birth, death]], columns = new_columns)\n",
    "            gender_ed_wr = gender_ed_wr.append(editor)\n",
    "\n",
    "gender_ed_wr.head()"
   ]
  },
  {
   "cell_type": "code",
   "execution_count": 163,
   "metadata": {},
   "outputs": [],
   "source": [
    "save_to_pickle(gender_ed_wr,'marvel_wr_attributes')"
   ]
  },
  {
   "cell_type": "code",
   "execution_count": 23,
   "metadata": {},
   "outputs": [],
   "source": [
    "with open('marvel_wr_attributes.txt', 'rb') as f:\n",
    "    marvel_wr = pickle.load(f)"
   ]
  },
  {
   "cell_type": "code",
   "execution_count": 24,
   "metadata": {},
   "outputs": [],
   "source": [
    "with open('marvel_ed_attributes.txt', 'rb') as f:\n",
    "    marvel_ed = pickle.load(f)"
   ]
  },
  {
   "cell_type": "code",
   "execution_count": 25,
   "metadata": {},
   "outputs": [],
   "source": [
    "marvel_ed_wr = marvel_wr.append(marvel_ed)"
   ]
  },
  {
   "cell_type": "code",
   "execution_count": 26,
   "metadata": {},
   "outputs": [],
   "source": [
    "save_to_pickle(marvel_ed_wr,'marvel_ed_wr_attributes')"
   ]
  },
  {
   "cell_type": "code",
   "execution_count": 27,
   "metadata": {},
   "outputs": [],
   "source": [
    "with open('marvel_ed_wr_attributes.txt', 'rb') as f:\n",
    "    marvel_ed_wr = pickle.load(f)"
   ]
  },
  {
   "cell_type": "code",
   "execution_count": 28,
   "metadata": {},
   "outputs": [
    {
     "data": {
      "text/html": [
       "<div>\n",
       "<style scoped>\n",
       "    .dataframe tbody tr th:only-of-type {\n",
       "        vertical-align: middle;\n",
       "    }\n",
       "\n",
       "    .dataframe tbody tr th {\n",
       "        vertical-align: top;\n",
       "    }\n",
       "\n",
       "    .dataframe thead th {\n",
       "        text-align: right;\n",
       "    }\n",
       "</style>\n",
       "<table border=\"1\" class=\"dataframe\">\n",
       "  <thead>\n",
       "    <tr style=\"text-align: right;\">\n",
       "      <th></th>\n",
       "      <th>URL</th>\n",
       "      <th>Gender</th>\n",
       "      <th>Birth</th>\n",
       "      <th>Death</th>\n",
       "    </tr>\n",
       "  </thead>\n",
       "  <tbody>\n",
       "    <tr>\n",
       "      <td>0</td>\n",
       "      <td>/wiki/Joe_Caramagna</td>\n",
       "      <td>Male</td>\n",
       "      <td></td>\n",
       "      <td></td>\n",
       "    </tr>\n",
       "    <tr>\n",
       "      <td>0</td>\n",
       "      <td>/wiki/Stan_Lee_(Earth-1218)</td>\n",
       "      <td>Male</td>\n",
       "      <td>December 28, 1922</td>\n",
       "      <td>November 12, 2018</td>\n",
       "    </tr>\n",
       "    <tr>\n",
       "      <td>0</td>\n",
       "      <td>/wiki/Larry_Lieber</td>\n",
       "      <td>Male</td>\n",
       "      <td>October 26, 1931</td>\n",
       "      <td></td>\n",
       "    </tr>\n",
       "    <tr>\n",
       "      <td>0</td>\n",
       "      <td>/wiki/Paul_Gustavson</td>\n",
       "      <td>Male</td>\n",
       "      <td>August 16, 1916</td>\n",
       "      <td>April 29, 1977</td>\n",
       "    </tr>\n",
       "    <tr>\n",
       "      <td>0</td>\n",
       "      <td>/wiki/Ray_Gill</td>\n",
       "      <td>Male</td>\n",
       "      <td></td>\n",
       "      <td></td>\n",
       "    </tr>\n",
       "    <tr>\n",
       "      <td>...</td>\n",
       "      <td>...</td>\n",
       "      <td>...</td>\n",
       "      <td>...</td>\n",
       "      <td>...</td>\n",
       "    </tr>\n",
       "    <tr>\n",
       "      <td>0</td>\n",
       "      <td>/wiki/C.B._Cebulski_(Earth-1218)</td>\n",
       "      <td>Male</td>\n",
       "      <td></td>\n",
       "      <td></td>\n",
       "    </tr>\n",
       "    <tr>\n",
       "      <td>0</td>\n",
       "      <td>/wiki/John_Barber</td>\n",
       "      <td>Male</td>\n",
       "      <td></td>\n",
       "      <td></td>\n",
       "    </tr>\n",
       "    <tr>\n",
       "      <td>0</td>\n",
       "      <td>/wiki/User:Ultimantium</td>\n",
       "      <td>male</td>\n",
       "      <td></td>\n",
       "      <td></td>\n",
       "    </tr>\n",
       "    <tr>\n",
       "      <td>0</td>\n",
       "      <td>/wiki/Jeff_Youngquist</td>\n",
       "      <td>Male</td>\n",
       "      <td></td>\n",
       "      <td></td>\n",
       "    </tr>\n",
       "    <tr>\n",
       "      <td>0</td>\n",
       "      <td>/wiki/Michael_Stuart_Phipps</td>\n",
       "      <td>Male</td>\n",
       "      <td></td>\n",
       "      <td></td>\n",
       "    </tr>\n",
       "  </tbody>\n",
       "</table>\n",
       "<p>1629 rows × 4 columns</p>\n",
       "</div>"
      ],
      "text/plain": [
       "                                 URL Gender              Birth  \\\n",
       "0                /wiki/Joe_Caramagna   Male                      \n",
       "0        /wiki/Stan_Lee_(Earth-1218)   Male  December 28, 1922   \n",
       "0                 /wiki/Larry_Lieber   Male   October 26, 1931   \n",
       "0               /wiki/Paul_Gustavson   Male    August 16, 1916   \n",
       "0                     /wiki/Ray_Gill   Male                      \n",
       "..                               ...    ...                ...   \n",
       "0   /wiki/C.B._Cebulski_(Earth-1218)   Male                      \n",
       "0                  /wiki/John_Barber   Male                      \n",
       "0             /wiki/User:Ultimantium   male                      \n",
       "0              /wiki/Jeff_Youngquist   Male                      \n",
       "0        /wiki/Michael_Stuart_Phipps   Male                      \n",
       "\n",
       "                Death  \n",
       "0                      \n",
       "0   November 12, 2018  \n",
       "0                      \n",
       "0      April 29, 1977  \n",
       "0                      \n",
       "..                ...  \n",
       "0                      \n",
       "0                      \n",
       "0                      \n",
       "0                      \n",
       "0                      \n",
       "\n",
       "[1629 rows x 4 columns]"
      ]
     },
     "execution_count": 28,
     "metadata": {},
     "output_type": "execute_result"
    }
   ],
   "source": [
    "marvel_ed_wr"
   ]
  },
  {
   "cell_type": "markdown",
   "metadata": {},
   "source": [
    "# DC editors and writers"
   ]
  },
  {
   "cell_type": "code",
   "execution_count": 286,
   "metadata": {},
   "outputs": [],
   "source": [
    "with open('dc_comics_editor_writer.txt', 'rb') as f:\n",
    "    dc_ed_wr = pickle.load(f)"
   ]
  },
  {
   "cell_type": "code",
   "execution_count": 315,
   "metadata": {},
   "outputs": [
    {
     "data": {
      "text/plain": [
       "                           23653\n",
       "/wiki/Dan_DiDio             5800\n",
       "/wiki/Dick_Giordano         5626\n",
       "/wiki/Bobbie_Chase          5478\n",
       "/wiki/Whitney_Ellsworth     4385\n",
       "                           ...  \n",
       "/wiki/Otto_Binder              1\n",
       "/wiki/Phyllis_Reed             1\n",
       "/wiki/Scott_Nybakken           1\n",
       "/wiki/Will_Eisner              1\n",
       "/wiki/John_Layman              1\n",
       "Name: Editor-in-chief URL, Length: 81, dtype: int64"
      ]
     },
     "execution_count": 315,
     "metadata": {},
     "output_type": "execute_result"
    }
   ],
   "source": [
    "dc_ed_wr['Editor-in-chief URL'].value_counts()"
   ]
  },
  {
   "cell_type": "code",
   "execution_count": 317,
   "metadata": {},
   "outputs": [
    {
     "data": {
      "text/html": [
       "<div>\n",
       "<style scoped>\n",
       "    .dataframe tbody tr th:only-of-type {\n",
       "        vertical-align: middle;\n",
       "    }\n",
       "\n",
       "    .dataframe tbody tr th {\n",
       "        vertical-align: top;\n",
       "    }\n",
       "\n",
       "    .dataframe thead th {\n",
       "        text-align: right;\n",
       "    }\n",
       "</style>\n",
       "<table border=\"1\" class=\"dataframe\">\n",
       "  <thead>\n",
       "    <tr style=\"text-align: right;\">\n",
       "      <th></th>\n",
       "      <th>URL</th>\n",
       "      <th>Gender</th>\n",
       "      <th>Birth</th>\n",
       "      <th>Death</th>\n",
       "    </tr>\n",
       "  </thead>\n",
       "  <tbody>\n",
       "    <tr>\n",
       "      <td>0</td>\n",
       "      <td>/wiki/Karen_Berger</td>\n",
       "      <td>Female</td>\n",
       "      <td>February 26, 1958</td>\n",
       "      <td></td>\n",
       "    </tr>\n",
       "    <tr>\n",
       "      <td>0</td>\n",
       "      <td>/wiki/Jenette_Kahn</td>\n",
       "      <td>Female</td>\n",
       "      <td>1948</td>\n",
       "      <td></td>\n",
       "    </tr>\n",
       "    <tr>\n",
       "      <td>0</td>\n",
       "      <td>/wiki/Joe_Orlando</td>\n",
       "      <td>Male</td>\n",
       "      <td>April 4, 1927</td>\n",
       "      <td>December 23, 1998</td>\n",
       "    </tr>\n",
       "    <tr>\n",
       "      <td>0</td>\n",
       "      <td>/wiki/Shelly_Bond</td>\n",
       "      <td>Female</td>\n",
       "      <td></td>\n",
       "      <td></td>\n",
       "    </tr>\n",
       "    <tr>\n",
       "      <td>0</td>\n",
       "      <td>/wiki/Dick_Giordano</td>\n",
       "      <td>Male</td>\n",
       "      <td>July 20, 1932</td>\n",
       "      <td>March 27, 2010</td>\n",
       "    </tr>\n",
       "  </tbody>\n",
       "</table>\n",
       "</div>"
      ],
      "text/plain": [
       "                   URL  Gender              Birth              Death\n",
       "0   /wiki/Karen_Berger  Female  February 26, 1958                   \n",
       "0   /wiki/Jenette_Kahn  Female               1948                   \n",
       "0    /wiki/Joe_Orlando    Male      April 4, 1927  December 23, 1998\n",
       "0    /wiki/Shelly_Bond  Female                                      \n",
       "0  /wiki/Dick_Giordano    Male      July 20, 1932     March 27, 2010"
      ]
     },
     "execution_count": 317,
     "metadata": {},
     "output_type": "execute_result"
    }
   ],
   "source": [
    "new_columns = ['URL', 'Gender', 'Birth', 'Death']\n",
    "gender_ed_wr = pd.DataFrame(columns=new_columns)\n",
    "\n",
    "for URL in dc_ed_wr['Editor-in-chief URL'].unique():\n",
    "    if (URL is not '') and ('/wiki/' in URL):\n",
    "        if URL[0] is not '/':\n",
    "            URL = URL[1:]\n",
    "            \n",
    "        # Initialize variables\n",
    "        gender, birth, death = '', '', ''\n",
    "\n",
    "        # Get URL and use html parser\n",
    "        URL = 'https://dc.fandom.com' + URL\n",
    "\n",
    "        r = requests.get(URL)\n",
    "        page_body = r.text\n",
    "\n",
    "        soup = BeautifulSoup(page_body, 'html.parser')\n",
    "\n",
    "        URL = URL.replace('https://dc.fandom.com','')\n",
    "\n",
    "        # Parsing\n",
    "        side_tab = soup.find_all('aside', class_='portable-infobox pi-background pi-theme-wikia pi-layout-default')\n",
    "\n",
    "        for p in side_tab:\n",
    "            for pp in p.find_all('div', class_='pi-item pi-data pi-item-spacing pi-border-color'):\n",
    "                if pp and pp.find_next('h3', class_=\"pi-data-label pi-secondary-font\"):\n",
    "                    if pp.find_next('h3', class_=\"pi-data-label pi-secondary-font\").text == 'Gender':\n",
    "                        if pp.find('div', class_='pi-data-value pi-font'):\n",
    "                            gender = pp.find('div', class_='pi-data-value pi-font').text\n",
    "                    if pp.find_next('h3', class_=\"pi-data-label pi-secondary-font\").text == 'Date of Birth':\n",
    "                        if pp.find('div', class_='pi-data-value pi-font'):\n",
    "                            birth = pp.find('div', class_='pi-data-value pi-font').text\n",
    "                    if pp.find_next('h3', class_=\"pi-data-label pi-secondary-font\").text == 'Date of Death':\n",
    "                        if pp.find('div', class_='pi-data-value pi-font'):\n",
    "                            death = pp.find('div', class_='pi-data-value pi-font').text\n",
    "\n",
    "        if URL not in gender_ed_wr['URL'].unique():\n",
    "            editor = pd.DataFrame([[URL, gender, birth, death]], columns = new_columns)\n",
    "            gender_ed_wr = gender_ed_wr.append(editor)\n",
    "\n",
    "gender_ed_wr.head()"
   ]
  },
  {
   "cell_type": "code",
   "execution_count": 318,
   "metadata": {},
   "outputs": [
    {
     "data": {
      "text/html": [
       "<div>\n",
       "<style scoped>\n",
       "    .dataframe tbody tr th:only-of-type {\n",
       "        vertical-align: middle;\n",
       "    }\n",
       "\n",
       "    .dataframe tbody tr th {\n",
       "        vertical-align: top;\n",
       "    }\n",
       "\n",
       "    .dataframe thead th {\n",
       "        text-align: right;\n",
       "    }\n",
       "</style>\n",
       "<table border=\"1\" class=\"dataframe\">\n",
       "  <thead>\n",
       "    <tr style=\"text-align: right;\">\n",
       "      <th></th>\n",
       "      <th>URL</th>\n",
       "      <th>Gender</th>\n",
       "      <th>Birth</th>\n",
       "      <th>Death</th>\n",
       "    </tr>\n",
       "  </thead>\n",
       "  <tbody>\n",
       "    <tr>\n",
       "      <td>0</td>\n",
       "      <td>/wiki/Karen_Berger</td>\n",
       "      <td>Female</td>\n",
       "      <td>February 26, 1958</td>\n",
       "      <td></td>\n",
       "    </tr>\n",
       "    <tr>\n",
       "      <td>0</td>\n",
       "      <td>/wiki/Jenette_Kahn</td>\n",
       "      <td>Female</td>\n",
       "      <td>1948</td>\n",
       "      <td></td>\n",
       "    </tr>\n",
       "    <tr>\n",
       "      <td>0</td>\n",
       "      <td>/wiki/Joe_Orlando</td>\n",
       "      <td>Male</td>\n",
       "      <td>April 4, 1927</td>\n",
       "      <td>December 23, 1998</td>\n",
       "    </tr>\n",
       "    <tr>\n",
       "      <td>0</td>\n",
       "      <td>/wiki/Shelly_Bond</td>\n",
       "      <td>Female</td>\n",
       "      <td></td>\n",
       "      <td></td>\n",
       "    </tr>\n",
       "    <tr>\n",
       "      <td>0</td>\n",
       "      <td>/wiki/Dick_Giordano</td>\n",
       "      <td>Male</td>\n",
       "      <td>July 20, 1932</td>\n",
       "      <td>March 27, 2010</td>\n",
       "    </tr>\n",
       "    <tr>\n",
       "      <td>...</td>\n",
       "      <td>...</td>\n",
       "      <td>...</td>\n",
       "      <td>...</td>\n",
       "      <td>...</td>\n",
       "    </tr>\n",
       "    <tr>\n",
       "      <td>0</td>\n",
       "      <td>/wiki/Mike_W._Barr</td>\n",
       "      <td>Male</td>\n",
       "      <td>May 30, 1952</td>\n",
       "      <td></td>\n",
       "    </tr>\n",
       "    <tr>\n",
       "      <td>0</td>\n",
       "      <td>/wiki/Deborah_Marvin</td>\n",
       "      <td>Female</td>\n",
       "      <td></td>\n",
       "      <td></td>\n",
       "    </tr>\n",
       "    <tr>\n",
       "      <td>0</td>\n",
       "      <td>/wiki/John_Layman</td>\n",
       "      <td>Male</td>\n",
       "      <td>August 2, 1969</td>\n",
       "      <td></td>\n",
       "    </tr>\n",
       "    <tr>\n",
       "      <td>0</td>\n",
       "      <td>/wiki/Irwin_Donenfeld</td>\n",
       "      <td>Male</td>\n",
       "      <td>March 1, 1926</td>\n",
       "      <td>November 29, 2004</td>\n",
       "    </tr>\n",
       "    <tr>\n",
       "      <td>0</td>\n",
       "      <td>/wiki/Jack_Miller</td>\n",
       "      <td>Male</td>\n",
       "      <td></td>\n",
       "      <td></td>\n",
       "    </tr>\n",
       "  </tbody>\n",
       "</table>\n",
       "<p>80 rows × 4 columns</p>\n",
       "</div>"
      ],
      "text/plain": [
       "                      URL  Gender              Birth              Death\n",
       "0      /wiki/Karen_Berger  Female  February 26, 1958                   \n",
       "0      /wiki/Jenette_Kahn  Female               1948                   \n",
       "0       /wiki/Joe_Orlando    Male      April 4, 1927  December 23, 1998\n",
       "0       /wiki/Shelly_Bond  Female                                      \n",
       "0     /wiki/Dick_Giordano    Male      July 20, 1932     March 27, 2010\n",
       "..                    ...     ...                ...                ...\n",
       "0      /wiki/Mike_W._Barr    Male       May 30, 1952                   \n",
       "0    /wiki/Deborah_Marvin  Female                                      \n",
       "0       /wiki/John_Layman    Male     August 2, 1969                   \n",
       "0   /wiki/Irwin_Donenfeld    Male      March 1, 1926  November 29, 2004\n",
       "0       /wiki/Jack_Miller    Male                                      \n",
       "\n",
       "[80 rows x 4 columns]"
      ]
     },
     "execution_count": 318,
     "metadata": {},
     "output_type": "execute_result"
    }
   ],
   "source": [
    "gender_ed_wr"
   ]
  },
  {
   "cell_type": "code",
   "execution_count": 319,
   "metadata": {},
   "outputs": [],
   "source": [
    "save_to_pickle(gender_ed_wr,'dc_ed_attributes')"
   ]
  },
  {
   "cell_type": "code",
   "execution_count": 14,
   "metadata": {},
   "outputs": [],
   "source": [
    "with open('dc_wr_attributes.txt', 'rb') as f:\n",
    "    dc_wr = pickle.load(f)"
   ]
  },
  {
   "cell_type": "code",
   "execution_count": 15,
   "metadata": {},
   "outputs": [],
   "source": [
    "with open('dc_ed_attributes.txt', 'rb') as f:\n",
    "    dc_ed = pickle.load(f)"
   ]
  },
  {
   "cell_type": "code",
   "execution_count": 19,
   "metadata": {},
   "outputs": [],
   "source": [
    "dc_ed_wr = dc_ed.append(dc_wr)"
   ]
  },
  {
   "cell_type": "code",
   "execution_count": 20,
   "metadata": {},
   "outputs": [
    {
     "data": {
      "text/html": [
       "<div>\n",
       "<style scoped>\n",
       "    .dataframe tbody tr th:only-of-type {\n",
       "        vertical-align: middle;\n",
       "    }\n",
       "\n",
       "    .dataframe tbody tr th {\n",
       "        vertical-align: top;\n",
       "    }\n",
       "\n",
       "    .dataframe thead th {\n",
       "        text-align: right;\n",
       "    }\n",
       "</style>\n",
       "<table border=\"1\" class=\"dataframe\">\n",
       "  <thead>\n",
       "    <tr style=\"text-align: right;\">\n",
       "      <th></th>\n",
       "      <th>URL</th>\n",
       "      <th>Gender</th>\n",
       "      <th>Birth</th>\n",
       "      <th>Death</th>\n",
       "    </tr>\n",
       "  </thead>\n",
       "  <tbody>\n",
       "    <tr>\n",
       "      <td>0</td>\n",
       "      <td>/wiki/Karen_Berger</td>\n",
       "      <td>Female</td>\n",
       "      <td>February 26, 1958</td>\n",
       "      <td></td>\n",
       "    </tr>\n",
       "    <tr>\n",
       "      <td>0</td>\n",
       "      <td>/wiki/Jenette_Kahn</td>\n",
       "      <td>Female</td>\n",
       "      <td>1948</td>\n",
       "      <td></td>\n",
       "    </tr>\n",
       "    <tr>\n",
       "      <td>0</td>\n",
       "      <td>/wiki/Joe_Orlando</td>\n",
       "      <td>Male</td>\n",
       "      <td>April 4, 1927</td>\n",
       "      <td>December 23, 1998</td>\n",
       "    </tr>\n",
       "    <tr>\n",
       "      <td>0</td>\n",
       "      <td>/wiki/Shelly_Bond</td>\n",
       "      <td>Female</td>\n",
       "      <td></td>\n",
       "      <td></td>\n",
       "    </tr>\n",
       "    <tr>\n",
       "      <td>0</td>\n",
       "      <td>/wiki/Dick_Giordano</td>\n",
       "      <td>Male</td>\n",
       "      <td>July 20, 1932</td>\n",
       "      <td>March 27, 2010</td>\n",
       "    </tr>\n",
       "    <tr>\n",
       "      <td>...</td>\n",
       "      <td>...</td>\n",
       "      <td>...</td>\n",
       "      <td>...</td>\n",
       "      <td>...</td>\n",
       "    </tr>\n",
       "    <tr>\n",
       "      <td>0</td>\n",
       "      <td>/wiki/Bill_Kunkel</td>\n",
       "      <td>Male</td>\n",
       "      <td></td>\n",
       "      <td></td>\n",
       "    </tr>\n",
       "    <tr>\n",
       "      <td>0</td>\n",
       "      <td>/wiki/Carl_Pfeufer</td>\n",
       "      <td>Male</td>\n",
       "      <td></td>\n",
       "      <td></td>\n",
       "    </tr>\n",
       "    <tr>\n",
       "      <td>0</td>\n",
       "      <td>/wiki/Marc_Swayze</td>\n",
       "      <td>Male</td>\n",
       "      <td></td>\n",
       "      <td></td>\n",
       "    </tr>\n",
       "    <tr>\n",
       "      <td>0</td>\n",
       "      <td>/wiki/David_Anthony_Kraft</td>\n",
       "      <td>Male</td>\n",
       "      <td></td>\n",
       "      <td></td>\n",
       "    </tr>\n",
       "    <tr>\n",
       "      <td>0</td>\n",
       "      <td>/wiki/Roy_Ald</td>\n",
       "      <td>Male</td>\n",
       "      <td></td>\n",
       "      <td></td>\n",
       "    </tr>\n",
       "  </tbody>\n",
       "</table>\n",
       "<p>568 rows × 4 columns</p>\n",
       "</div>"
      ],
      "text/plain": [
       "                          URL  Gender              Birth              Death\n",
       "0          /wiki/Karen_Berger  Female  February 26, 1958                   \n",
       "0          /wiki/Jenette_Kahn  Female               1948                   \n",
       "0           /wiki/Joe_Orlando    Male      April 4, 1927  December 23, 1998\n",
       "0           /wiki/Shelly_Bond  Female                                      \n",
       "0         /wiki/Dick_Giordano    Male      July 20, 1932     March 27, 2010\n",
       "..                        ...     ...                ...                ...\n",
       "0           /wiki/Bill_Kunkel    Male                                      \n",
       "0          /wiki/Carl_Pfeufer    Male                                      \n",
       "0           /wiki/Marc_Swayze    Male                                      \n",
       "0   /wiki/David_Anthony_Kraft    Male                                      \n",
       "0               /wiki/Roy_Ald    Male                                      \n",
       "\n",
       "[568 rows x 4 columns]"
      ]
     },
     "execution_count": 20,
     "metadata": {},
     "output_type": "execute_result"
    }
   ],
   "source": [
    "dc_ed_wr"
   ]
  },
  {
   "cell_type": "code",
   "execution_count": 21,
   "metadata": {},
   "outputs": [],
   "source": [
    "save_to_pickle(dc_ed_wr,'dc_ed_wr_attributes')"
   ]
  },
  {
   "cell_type": "markdown",
   "metadata": {},
   "source": [
    "# Analysis"
   ]
  },
  {
   "cell_type": "markdown",
   "metadata": {},
   "source": [
    "### Marvel"
   ]
  },
  {
   "cell_type": "code",
   "execution_count": 21,
   "metadata": {},
   "outputs": [],
   "source": [
    "with open('../marvel_ed_attributes.txt', 'rb') as f:\n",
    "    marvel_ed = pickle.load(f)\n",
    "with open('../marvel_wr_attributes.txt', 'rb') as f:\n",
    "    marvel_wr = pickle.load(f)"
   ]
  },
  {
   "cell_type": "code",
   "execution_count": 22,
   "metadata": {},
   "outputs": [
    {
     "data": {
      "text/plain": [
       "Male      55\n",
       "Female     9\n",
       "           2\n",
       "male       1\n",
       "Name: Gender, dtype: int64"
      ]
     },
     "execution_count": 22,
     "metadata": {},
     "output_type": "execute_result"
    }
   ],
   "source": [
    "marvel_ed['Gender'].value_counts()"
   ]
  },
  {
   "cell_type": "code",
   "execution_count": 23,
   "metadata": {},
   "outputs": [
    {
     "data": {
      "text/plain": [
       "Male          1319\n",
       "Female         167\n",
       "                72\n",
       "Non-Binary       2\n",
       "Other            1\n",
       "None             1\n",
       "Name: Gender, dtype: int64"
      ]
     },
     "execution_count": 23,
     "metadata": {},
     "output_type": "execute_result"
    }
   ],
   "source": [
    "marvel_wr['Gender'].value_counts()"
   ]
  },
  {
   "cell_type": "code",
   "execution_count": 24,
   "metadata": {},
   "outputs": [],
   "source": [
    "marvel_ed.loc[marvel_ed['Gender']=='male','Gender']='Male'\n",
    "marvel_ed.loc[marvel_ed['Gender']=='','Gender']='Unknown'\n",
    "\n",
    "marvel_wr.loc[marvel_wr['Gender']=='','Gender']='Unknown'"
   ]
  },
  {
   "cell_type": "markdown",
   "metadata": {},
   "source": [
    "**The gender `None` and `Other` corresponds to a \"Studio\", i.e. the writer is a group of people so there is no specified gender. We denote them as `Unknown`.**"
   ]
  },
  {
   "cell_type": "code",
   "execution_count": 25,
   "metadata": {},
   "outputs": [
    {
     "data": {
      "text/html": [
       "<div>\n",
       "<style scoped>\n",
       "    .dataframe tbody tr th:only-of-type {\n",
       "        vertical-align: middle;\n",
       "    }\n",
       "\n",
       "    .dataframe tbody tr th {\n",
       "        vertical-align: top;\n",
       "    }\n",
       "\n",
       "    .dataframe thead th {\n",
       "        text-align: right;\n",
       "    }\n",
       "</style>\n",
       "<table border=\"1\" class=\"dataframe\">\n",
       "  <thead>\n",
       "    <tr style=\"text-align: right;\">\n",
       "      <th></th>\n",
       "      <th>URL</th>\n",
       "      <th>Gender</th>\n",
       "      <th>Birth</th>\n",
       "      <th>Death</th>\n",
       "    </tr>\n",
       "  </thead>\n",
       "  <tbody>\n",
       "    <tr>\n",
       "      <td>0</td>\n",
       "      <td>/wiki/Man_of_Action</td>\n",
       "      <td>Other</td>\n",
       "      <td></td>\n",
       "      <td></td>\n",
       "    </tr>\n",
       "  </tbody>\n",
       "</table>\n",
       "</div>"
      ],
      "text/plain": [
       "                   URL Gender Birth Death\n",
       "0  /wiki/Man_of_Action  Other            "
      ]
     },
     "execution_count": 25,
     "metadata": {},
     "output_type": "execute_result"
    }
   ],
   "source": [
    "marvel_wr[marvel_wr['Gender']=='Other']"
   ]
  },
  {
   "cell_type": "code",
   "execution_count": 26,
   "metadata": {},
   "outputs": [],
   "source": [
    "marvel_ed.loc[marvel_ed['Gender']=='None','Gender']='Unknown'\n",
    "marvel_ed.loc[marvel_ed['Gender']=='Other','Gender']='Unknown'\n",
    "\n",
    "marvel_wr.loc[marvel_wr['Gender']=='None','Gender']='Unknown'\n",
    "marvel_wr.loc[marvel_wr['Gender']=='Other','Gender']='Unknown'"
   ]
  },
  {
   "cell_type": "code",
   "execution_count": 27,
   "metadata": {},
   "outputs": [
    {
     "data": {
      "text/plain": [
       "Male       56\n",
       "Female      9\n",
       "Unknown     2\n",
       "Name: Gender, dtype: int64"
      ]
     },
     "execution_count": 27,
     "metadata": {},
     "output_type": "execute_result"
    }
   ],
   "source": [
    "marvel_ed['Gender'].value_counts()"
   ]
  },
  {
   "cell_type": "code",
   "execution_count": 29,
   "metadata": {},
   "outputs": [
    {
     "data": {
      "text/plain": [
       "Male          1319\n",
       "Female         167\n",
       "Unknown         74\n",
       "Non-Binary       2\n",
       "Name: Gender, dtype: int64"
      ]
     },
     "execution_count": 29,
     "metadata": {},
     "output_type": "execute_result"
    }
   ],
   "source": [
    "marvel_wr['Gender'].value_counts()"
   ]
  },
  {
   "cell_type": "code",
   "execution_count": 30,
   "metadata": {},
   "outputs": [],
   "source": [
    "save_to_pickle(marvel_ed,'marvel_ed_attributes')\n",
    "save_to_pickle(marvel_wr,'marvel_wr_attributes')"
   ]
  },
  {
   "cell_type": "markdown",
   "metadata": {},
   "source": [
    "### DC"
   ]
  },
  {
   "cell_type": "code",
   "execution_count": 31,
   "metadata": {},
   "outputs": [],
   "source": [
    "with open('../dc_ed_attributes.txt', 'rb') as f:\n",
    "    dc_ed = pickle.load(f)\n",
    "with open('../dc_wr_attributes.txt', 'rb') as f:\n",
    "    dc_wr = pickle.load(f)"
   ]
  },
  {
   "cell_type": "code",
   "execution_count": 32,
   "metadata": {},
   "outputs": [
    {
     "data": {
      "text/plain": [
       "Male      66\n",
       "Female    11\n",
       "           3\n",
       "Name: Gender, dtype: int64"
      ]
     },
     "execution_count": 32,
     "metadata": {},
     "output_type": "execute_result"
    }
   ],
   "source": [
    "dc_ed['Gender'].value_counts()"
   ]
  },
  {
   "cell_type": "code",
   "execution_count": 33,
   "metadata": {},
   "outputs": [
    {
     "data": {
      "text/plain": [
       "Male      416\n",
       "Female     39\n",
       "           33\n",
       "Name: Gender, dtype: int64"
      ]
     },
     "execution_count": 33,
     "metadata": {},
     "output_type": "execute_result"
    }
   ],
   "source": [
    "dc_wr['Gender'].value_counts()"
   ]
  },
  {
   "cell_type": "code",
   "execution_count": 34,
   "metadata": {},
   "outputs": [],
   "source": [
    "dc_ed.loc[dc_ed['Gender']=='','Gender']='Unknown'\n",
    "dc_wr.loc[dc_wr['Gender']=='','Gender']='Unknown'"
   ]
  },
  {
   "cell_type": "code",
   "execution_count": 35,
   "metadata": {},
   "outputs": [
    {
     "data": {
      "text/plain": [
       "Male       66\n",
       "Female     11\n",
       "Unknown     3\n",
       "Name: Gender, dtype: int64"
      ]
     },
     "execution_count": 35,
     "metadata": {},
     "output_type": "execute_result"
    }
   ],
   "source": [
    "dc_ed['Gender'].value_counts()"
   ]
  },
  {
   "cell_type": "code",
   "execution_count": 36,
   "metadata": {},
   "outputs": [
    {
     "data": {
      "text/plain": [
       "Male       416\n",
       "Female      39\n",
       "Unknown     33\n",
       "Name: Gender, dtype: int64"
      ]
     },
     "execution_count": 36,
     "metadata": {},
     "output_type": "execute_result"
    }
   ],
   "source": [
    "dc_wr['Gender'].value_counts()"
   ]
  },
  {
   "cell_type": "code",
   "execution_count": 37,
   "metadata": {},
   "outputs": [],
   "source": [
    "save_to_pickle(dc_ed,'dc_ed_attributes')\n",
    "save_to_pickle(dc_wr,'dc_wr_attributes')"
   ]
  }
 ],
 "metadata": {
  "kernelspec": {
   "display_name": "Python 3",
   "language": "python",
   "name": "python3"
  },
  "language_info": {
   "codemirror_mode": {
    "name": "ipython",
    "version": 3
   },
   "file_extension": ".py",
   "mimetype": "text/x-python",
   "name": "python",
   "nbconvert_exporter": "python",
   "pygments_lexer": "ipython3",
   "version": "3.7.4"
  }
 },
 "nbformat": 4,
 "nbformat_minor": 2
}
