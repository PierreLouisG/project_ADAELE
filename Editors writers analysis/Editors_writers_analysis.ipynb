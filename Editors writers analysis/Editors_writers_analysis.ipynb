{
 "cells": [
  {
   "cell_type": "code",
   "execution_count": 1,
   "metadata": {},
   "outputs": [],
   "source": [
    "# Import libraries\n",
    "import matplotlib.pyplot as plt\n",
    "import pandas as pd\n",
    "import numpy as np\n",
    "import requests\n",
    "import pickle\n",
    "import re\n",
    "from bs4 import BeautifulSoup\n",
    "from sys import stdout"
   ]
  },
  {
   "cell_type": "code",
   "execution_count": 2,
   "metadata": {},
   "outputs": [],
   "source": [
    "def save_to_pickle(file,name):\n",
    "    with open(name + '.txt', 'wb') as f:\n",
    "        pickle.dump(file, f)"
   ]
  },
  {
   "cell_type": "markdown",
   "metadata": {},
   "source": [
    "# Marvel editors and writers"
   ]
  },
  {
   "cell_type": "code",
   "execution_count": 4,
   "metadata": {},
   "outputs": [],
   "source": [
    "with open('../marvel_comics_editor_writer.txt', 'rb') as f:\n",
    "    marvel_ed_wr = pickle.load(f)"
   ]
  },
  {
   "cell_type": "code",
   "execution_count": 19,
   "metadata": {
    "scrolled": true
   },
   "outputs": [
    {
     "data": {
      "text/html": [
       "<div>\n",
       "<style scoped>\n",
       "    .dataframe tbody tr th:only-of-type {\n",
       "        vertical-align: middle;\n",
       "    }\n",
       "\n",
       "    .dataframe tbody tr th {\n",
       "        vertical-align: top;\n",
       "    }\n",
       "\n",
       "    .dataframe thead th {\n",
       "        text-align: right;\n",
       "    }\n",
       "</style>\n",
       "<table border=\"1\" class=\"dataframe\">\n",
       "  <thead>\n",
       "    <tr style=\"text-align: right;\">\n",
       "      <th></th>\n",
       "      <th>Old URL</th>\n",
       "      <th>URL</th>\n",
       "      <th>Gender</th>\n",
       "      <th>Birth</th>\n",
       "      <th>Death</th>\n",
       "    </tr>\n",
       "  </thead>\n",
       "  <tbody>\n",
       "    <tr>\n",
       "      <td>0</td>\n",
       "      <td>/wiki/Joe_Caramagna</td>\n",
       "      <td>/wiki/Joe_Caramagna</td>\n",
       "      <td>Male</td>\n",
       "      <td></td>\n",
       "      <td></td>\n",
       "    </tr>\n",
       "    <tr>\n",
       "      <td>0</td>\n",
       "      <td>/wiki/Stan_Lee</td>\n",
       "      <td>/wiki/Stan_Lee_(Earth-1218)</td>\n",
       "      <td>Male</td>\n",
       "      <td>December 28, 1922</td>\n",
       "      <td>November 12, 2018</td>\n",
       "    </tr>\n",
       "    <tr>\n",
       "      <td>0</td>\n",
       "      <td>/wiki/Larry_Lieber</td>\n",
       "      <td>/wiki/Larry_Lieber</td>\n",
       "      <td>Male</td>\n",
       "      <td>October 26, 1931</td>\n",
       "      <td></td>\n",
       "    </tr>\n",
       "    <tr>\n",
       "      <td>0</td>\n",
       "      <td>/wiki/Paul_Gustavson</td>\n",
       "      <td>/wiki/Paul_Gustavson</td>\n",
       "      <td>Male</td>\n",
       "      <td>August 16, 1916</td>\n",
       "      <td>April 29, 1977</td>\n",
       "    </tr>\n",
       "    <tr>\n",
       "      <td>0</td>\n",
       "      <td>/wiki/Ray_Gill</td>\n",
       "      <td>/wiki/Ray_Gill</td>\n",
       "      <td>Male</td>\n",
       "      <td></td>\n",
       "      <td></td>\n",
       "    </tr>\n",
       "  </tbody>\n",
       "</table>\n",
       "</div>"
      ],
      "text/plain": [
       "                Old URL                          URL Gender  \\\n",
       "0   /wiki/Joe_Caramagna          /wiki/Joe_Caramagna   Male   \n",
       "0        /wiki/Stan_Lee  /wiki/Stan_Lee_(Earth-1218)   Male   \n",
       "0    /wiki/Larry_Lieber           /wiki/Larry_Lieber   Male   \n",
       "0  /wiki/Paul_Gustavson         /wiki/Paul_Gustavson   Male   \n",
       "0        /wiki/Ray_Gill               /wiki/Ray_Gill   Male   \n",
       "\n",
       "               Birth              Death  \n",
       "0                                        \n",
       "0  December 28, 1922  November 12, 2018  \n",
       "0   October 26, 1931                     \n",
       "0    August 16, 1916     April 29, 1977  \n",
       "0                                        "
      ]
     },
     "execution_count": 19,
     "metadata": {},
     "output_type": "execute_result"
    }
   ],
   "source": [
    "new_columns = ['Old URL', 'URL', 'Gender', 'Birth', 'Death']\n",
    "gender_ed_wr = pd.DataFrame(columns=new_columns)\n",
    "\n",
    "for oldurl in marvel_ed_wr['Writer URL'].unique():\n",
    "    if oldurl is not '':\n",
    "        # Initialize variables\n",
    "        URL, gender, birth, death = '', '', '', ''\n",
    "\n",
    "        editor = pd.DataFrame([[oldurl, URL, gender, birth, death]], columns = new_columns)\n",
    "        URL = oldurl\n",
    "\n",
    "        if (URL is not '') and ('/wiki/' in URL):\n",
    "            if URL[0] is not '/':\n",
    "                URL = URL[1:]\n",
    "\n",
    "            # Get URL and use html parser\n",
    "            URL = 'https://marvel.fandom.com' + URL\n",
    "\n",
    "            r = requests.get(URL)\n",
    "            page_body = r.text\n",
    "\n",
    "            soup = BeautifulSoup(page_body, 'html.parser')\n",
    "\n",
    "            # If URL links to the Editor/Writer main page\n",
    "            if soup.find_all('span', style='font-weight:bold;'):\n",
    "                span = soup.find_all('span', style='font-weight:bold;')\n",
    "                if span:\n",
    "                    a = span[0].find_all('a', href=True)\n",
    "                    if a:\n",
    "                        URL = 'https://marvel.fandom.com' + a[0]['href']\n",
    "                        # html parser on the real page\n",
    "                        r = requests.get(URL)\n",
    "                        page_body = r.text\n",
    "\n",
    "                        soup = BeautifulSoup(page_body, 'html.parser')\n",
    "\n",
    "            # Special case\n",
    "            if '/wiki/User:Ultimantium' in URL:\n",
    "                gender = 'Male'\n",
    "\n",
    "            URL = URL.replace('https://marvel.fandom.com','')\n",
    "\n",
    "            # Parsing\n",
    "            side_tab = soup.find_all('div', class_='infobox')\n",
    "\n",
    "            # Gender\n",
    "            for p in side_tab:\n",
    "                for pp in p.find_all('div', style='clear:left;font-size:10px;text-align:center;border-top:1px solid #B5B7CF;'):\n",
    "                    for ppp in pp.find_all('div', style='width:90px;float:left;text-align:left;'):\n",
    "                        if(ppp.text==\"Gender\"):\n",
    "                            if pp.find('div', style='width:160px;float:left;text-align:right;'):\n",
    "                                gender = pp.find('div', style='width:160px;float:left;text-align:right;').text\n",
    "\n",
    "            # Birth and death dates\n",
    "            for pp in p.find_all('div', style=\"width:125px;float:left;clear:left;border-top:1px solid #B5B7CF;\"):\n",
    "                if pp:\n",
    "                    birth = pp.text\n",
    "            for pp in p.find_all('div', style=\"width:125px;float:left;border-top:1px solid #B5B7CF;\"):\n",
    "                if pp:\n",
    "                    death = pp.text\n",
    "\n",
    "            if URL not in gender_ed_wr['URL'].unique():\n",
    "                editor['URL'] = URL\n",
    "                editor['Gender'] = gender\n",
    "                editor['Birth'] = birth\n",
    "                editor['Death'] = death\n",
    "\n",
    "        gender_ed_wr = gender_ed_wr.append(editor)\n",
    "\n",
    "gender_ed_wr.head()"
   ]
  },
  {
   "cell_type": "code",
   "execution_count": 20,
   "metadata": {},
   "outputs": [
    {
     "data": {
      "text/html": [
       "<div>\n",
       "<style scoped>\n",
       "    .dataframe tbody tr th:only-of-type {\n",
       "        vertical-align: middle;\n",
       "    }\n",
       "\n",
       "    .dataframe tbody tr th {\n",
       "        vertical-align: top;\n",
       "    }\n",
       "\n",
       "    .dataframe thead th {\n",
       "        text-align: right;\n",
       "    }\n",
       "</style>\n",
       "<table border=\"1\" class=\"dataframe\">\n",
       "  <thead>\n",
       "    <tr style=\"text-align: right;\">\n",
       "      <th></th>\n",
       "      <th>Old URL</th>\n",
       "      <th>URL</th>\n",
       "      <th>Gender</th>\n",
       "      <th>Birth</th>\n",
       "      <th>Death</th>\n",
       "    </tr>\n",
       "  </thead>\n",
       "  <tbody>\n",
       "    <tr>\n",
       "      <td>0</td>\n",
       "      <td>/wiki/Joe_Caramagna</td>\n",
       "      <td>/wiki/Joe_Caramagna</td>\n",
       "      <td>Male</td>\n",
       "      <td></td>\n",
       "      <td></td>\n",
       "    </tr>\n",
       "    <tr>\n",
       "      <td>0</td>\n",
       "      <td>/wiki/Stan_Lee</td>\n",
       "      <td>/wiki/Stan_Lee_(Earth-1218)</td>\n",
       "      <td>Male</td>\n",
       "      <td>December 28, 1922</td>\n",
       "      <td>November 12, 2018</td>\n",
       "    </tr>\n",
       "    <tr>\n",
       "      <td>0</td>\n",
       "      <td>/wiki/Larry_Lieber</td>\n",
       "      <td>/wiki/Larry_Lieber</td>\n",
       "      <td>Male</td>\n",
       "      <td>October 26, 1931</td>\n",
       "      <td></td>\n",
       "    </tr>\n",
       "    <tr>\n",
       "      <td>0</td>\n",
       "      <td>/wiki/Paul_Gustavson</td>\n",
       "      <td>/wiki/Paul_Gustavson</td>\n",
       "      <td>Male</td>\n",
       "      <td>August 16, 1916</td>\n",
       "      <td>April 29, 1977</td>\n",
       "    </tr>\n",
       "    <tr>\n",
       "      <td>0</td>\n",
       "      <td>/wiki/Ray_Gill</td>\n",
       "      <td>/wiki/Ray_Gill</td>\n",
       "      <td>Male</td>\n",
       "      <td></td>\n",
       "      <td></td>\n",
       "    </tr>\n",
       "    <tr>\n",
       "      <td>...</td>\n",
       "      <td>...</td>\n",
       "      <td>...</td>\n",
       "      <td>...</td>\n",
       "      <td>...</td>\n",
       "      <td>...</td>\n",
       "    </tr>\n",
       "    <tr>\n",
       "      <td>0</td>\n",
       "      <td>Daan Jippes</td>\n",
       "      <td></td>\n",
       "      <td></td>\n",
       "      <td></td>\n",
       "      <td></td>\n",
       "    </tr>\n",
       "    <tr>\n",
       "      <td>0</td>\n",
       "      <td>Don Ferguson</td>\n",
       "      <td></td>\n",
       "      <td></td>\n",
       "      <td></td>\n",
       "      <td></td>\n",
       "    </tr>\n",
       "    <tr>\n",
       "      <td>0</td>\n",
       "      <td>/wiki/Barry_Reese</td>\n",
       "      <td>/wiki/Barry_Reese</td>\n",
       "      <td>Male</td>\n",
       "      <td></td>\n",
       "      <td></td>\n",
       "    </tr>\n",
       "    <tr>\n",
       "      <td>0</td>\n",
       "      <td>/wiki/Syd_Barney-Hawke</td>\n",
       "      <td>/wiki/Syd_Barney-Hawke</td>\n",
       "      <td>Male</td>\n",
       "      <td></td>\n",
       "      <td></td>\n",
       "    </tr>\n",
       "    <tr>\n",
       "      <td>0</td>\n",
       "      <td>/wiki/James_Moore</td>\n",
       "      <td>/wiki/James_Moore</td>\n",
       "      <td>Male</td>\n",
       "      <td>September 3, 1965</td>\n",
       "      <td></td>\n",
       "    </tr>\n",
       "  </tbody>\n",
       "</table>\n",
       "<p>2084 rows × 5 columns</p>\n",
       "</div>"
      ],
      "text/plain": [
       "                    Old URL                          URL Gender  \\\n",
       "0       /wiki/Joe_Caramagna          /wiki/Joe_Caramagna   Male   \n",
       "0            /wiki/Stan_Lee  /wiki/Stan_Lee_(Earth-1218)   Male   \n",
       "0        /wiki/Larry_Lieber           /wiki/Larry_Lieber   Male   \n",
       "0      /wiki/Paul_Gustavson         /wiki/Paul_Gustavson   Male   \n",
       "0            /wiki/Ray_Gill               /wiki/Ray_Gill   Male   \n",
       "..                      ...                          ...    ...   \n",
       "0               Daan Jippes                                       \n",
       "0              Don Ferguson                                       \n",
       "0         /wiki/Barry_Reese            /wiki/Barry_Reese   Male   \n",
       "0    /wiki/Syd_Barney-Hawke       /wiki/Syd_Barney-Hawke   Male   \n",
       "0         /wiki/James_Moore            /wiki/James_Moore   Male   \n",
       "\n",
       "                Birth              Death  \n",
       "0                                         \n",
       "0   December 28, 1922  November 12, 2018  \n",
       "0    October 26, 1931                     \n",
       "0     August 16, 1916     April 29, 1977  \n",
       "0                                         \n",
       "..                ...                ...  \n",
       "0                                         \n",
       "0                                         \n",
       "0                                         \n",
       "0                                         \n",
       "0   September 3, 1965                     \n",
       "\n",
       "[2084 rows x 5 columns]"
      ]
     },
     "execution_count": 20,
     "metadata": {},
     "output_type": "execute_result"
    }
   ],
   "source": [
    "gender_ed_wr"
   ]
  },
  {
   "cell_type": "code",
   "execution_count": 21,
   "metadata": {},
   "outputs": [],
   "source": [
    "save_to_pickle(gender_ed_wr,'marvel_wr_attributes')"
   ]
  },
  {
   "cell_type": "code",
   "execution_count": 23,
   "metadata": {},
   "outputs": [],
   "source": [
    "with open('marvel_wr_attributes.txt', 'rb') as f:\n",
    "    marvel_wr = pickle.load(f)"
   ]
  },
  {
   "cell_type": "code",
   "execution_count": 24,
   "metadata": {},
   "outputs": [],
   "source": [
    "with open('marvel_ed_attributes.txt', 'rb') as f:\n",
    "    marvel_ed = pickle.load(f)"
   ]
  },
  {
   "cell_type": "markdown",
   "metadata": {},
   "source": [
    "# DC editors and writers"
   ]
  },
  {
   "cell_type": "code",
   "execution_count": 23,
   "metadata": {},
   "outputs": [],
   "source": [
    "with open('../dc_comics_editor_writer.txt', 'rb') as f:\n",
    "    dc_ed_wr = pickle.load(f)"
   ]
  },
  {
   "cell_type": "code",
   "execution_count": 28,
   "metadata": {},
   "outputs": [
    {
     "data": {
      "text/html": [
       "<div>\n",
       "<style scoped>\n",
       "    .dataframe tbody tr th:only-of-type {\n",
       "        vertical-align: middle;\n",
       "    }\n",
       "\n",
       "    .dataframe tbody tr th {\n",
       "        vertical-align: top;\n",
       "    }\n",
       "\n",
       "    .dataframe thead th {\n",
       "        text-align: right;\n",
       "    }\n",
       "</style>\n",
       "<table border=\"1\" class=\"dataframe\">\n",
       "  <thead>\n",
       "    <tr style=\"text-align: right;\">\n",
       "      <th></th>\n",
       "      <th>Writer</th>\n",
       "      <th>Writer URL</th>\n",
       "      <th>Editor-in-chief</th>\n",
       "      <th>Editor-in-chief URL</th>\n",
       "      <th>Publication date</th>\n",
       "    </tr>\n",
       "  </thead>\n",
       "  <tbody>\n",
       "    <tr>\n",
       "      <td>0</td>\n",
       "      <td></td>\n",
       "      <td></td>\n",
       "      <td>Karen Berger</td>\n",
       "      <td>/wiki/Karen_Berger</td>\n",
       "      <td>November, 2005</td>\n",
       "    </tr>\n",
       "    <tr>\n",
       "      <td>1</td>\n",
       "      <td></td>\n",
       "      <td></td>\n",
       "      <td>Karen Berger</td>\n",
       "      <td>/wiki/Karen_Berger</td>\n",
       "      <td>August, 2001</td>\n",
       "    </tr>\n",
       "    <tr>\n",
       "      <td>2</td>\n",
       "      <td>Ron Marz</td>\n",
       "      <td>/wiki/Ron_Marz</td>\n",
       "      <td>Karen Berger</td>\n",
       "      <td>/wiki/Karen_Berger</td>\n",
       "      <td>September, 1997</td>\n",
       "    </tr>\n",
       "    <tr>\n",
       "      <td>3</td>\n",
       "      <td>Ron Marz</td>\n",
       "      <td>/wiki/Ron_Marz</td>\n",
       "      <td>Jenette Kahn</td>\n",
       "      <td>/wiki/Jenette_Kahn</td>\n",
       "      <td>December, 1997</td>\n",
       "    </tr>\n",
       "    <tr>\n",
       "      <td>4</td>\n",
       "      <td></td>\n",
       "      <td></td>\n",
       "      <td>Karen Berger</td>\n",
       "      <td>/wiki/Karen_Berger</td>\n",
       "      <td>June, 2000</td>\n",
       "    </tr>\n",
       "    <tr>\n",
       "      <td>...</td>\n",
       "      <td>...</td>\n",
       "      <td>...</td>\n",
       "      <td>...</td>\n",
       "      <td>...</td>\n",
       "      <td>...</td>\n",
       "    </tr>\n",
       "    <tr>\n",
       "      <td>62309</td>\n",
       "      <td></td>\n",
       "      <td></td>\n",
       "      <td>Dan DiDio</td>\n",
       "      <td>/wiki/Dan_DiDio</td>\n",
       "      <td>July, 2010</td>\n",
       "    </tr>\n",
       "    <tr>\n",
       "      <td>62310</td>\n",
       "      <td></td>\n",
       "      <td></td>\n",
       "      <td>Jim Lee</td>\n",
       "      <td>/wiki/Jim_Lee</td>\n",
       "      <td>May, 2001</td>\n",
       "    </tr>\n",
       "    <tr>\n",
       "      <td>62311</td>\n",
       "      <td></td>\n",
       "      <td></td>\n",
       "      <td></td>\n",
       "      <td></td>\n",
       "      <td>December, 1973</td>\n",
       "    </tr>\n",
       "    <tr>\n",
       "      <td>62312</td>\n",
       "      <td></td>\n",
       "      <td></td>\n",
       "      <td></td>\n",
       "      <td></td>\n",
       "      <td>November, 1963</td>\n",
       "    </tr>\n",
       "    <tr>\n",
       "      <td>62313</td>\n",
       "      <td></td>\n",
       "      <td></td>\n",
       "      <td></td>\n",
       "      <td></td>\n",
       "      <td>August, 1974</td>\n",
       "    </tr>\n",
       "  </tbody>\n",
       "</table>\n",
       "<p>62591 rows × 5 columns</p>\n",
       "</div>"
      ],
      "text/plain": [
       "         Writer      Writer URL Editor-in-chief Editor-in-chief URL  \\\n",
       "0                                  Karen Berger  /wiki/Karen_Berger   \n",
       "1                                  Karen Berger  /wiki/Karen_Berger   \n",
       "2      Ron Marz  /wiki/Ron_Marz    Karen Berger  /wiki/Karen_Berger   \n",
       "3      Ron Marz  /wiki/Ron_Marz    Jenette Kahn  /wiki/Jenette_Kahn   \n",
       "4                                  Karen Berger  /wiki/Karen_Berger   \n",
       "...         ...             ...             ...                 ...   \n",
       "62309                                 Dan DiDio     /wiki/Dan_DiDio   \n",
       "62310                                   Jim Lee       /wiki/Jim_Lee   \n",
       "62311                                                                 \n",
       "62312                                                                 \n",
       "62313                                                                 \n",
       "\n",
       "      Publication date  \n",
       "0       November, 2005  \n",
       "1         August, 2001  \n",
       "2      September, 1997  \n",
       "3       December, 1997  \n",
       "4           June, 2000  \n",
       "...                ...  \n",
       "62309       July, 2010  \n",
       "62310        May, 2001  \n",
       "62311   December, 1973  \n",
       "62312   November, 1963  \n",
       "62313     August, 1974  \n",
       "\n",
       "[62591 rows x 5 columns]"
      ]
     },
     "execution_count": 28,
     "metadata": {},
     "output_type": "execute_result"
    }
   ],
   "source": [
    "dc_ed_wr"
   ]
  },
  {
   "cell_type": "code",
   "execution_count": 29,
   "metadata": {},
   "outputs": [
    {
     "data": {
      "text/html": [
       "<div>\n",
       "<style scoped>\n",
       "    .dataframe tbody tr th:only-of-type {\n",
       "        vertical-align: middle;\n",
       "    }\n",
       "\n",
       "    .dataframe tbody tr th {\n",
       "        vertical-align: top;\n",
       "    }\n",
       "\n",
       "    .dataframe thead th {\n",
       "        text-align: right;\n",
       "    }\n",
       "</style>\n",
       "<table border=\"1\" class=\"dataframe\">\n",
       "  <thead>\n",
       "    <tr style=\"text-align: right;\">\n",
       "      <th></th>\n",
       "      <th>Old URL</th>\n",
       "      <th>URL</th>\n",
       "      <th>Gender</th>\n",
       "      <th>Birth</th>\n",
       "      <th>Death</th>\n",
       "    </tr>\n",
       "  </thead>\n",
       "  <tbody>\n",
       "    <tr>\n",
       "      <td>0</td>\n",
       "      <td>/wiki/Jack_Miller</td>\n",
       "      <td>/wiki/Jack_Miller</td>\n",
       "      <td>Male</td>\n",
       "      <td></td>\n",
       "      <td></td>\n",
       "    </tr>\n",
       "    <tr>\n",
       "      <td>0</td>\n",
       "      <td>/wiki/Ron_Marz</td>\n",
       "      <td>/wiki/Ron_Marz</td>\n",
       "      <td>Male</td>\n",
       "      <td>November 17, 1965</td>\n",
       "      <td></td>\n",
       "    </tr>\n",
       "    <tr>\n",
       "      <td>0</td>\n",
       "      <td>/wiki/Joe_Simon</td>\n",
       "      <td>/wiki/Joe_Simon</td>\n",
       "      <td>Male</td>\n",
       "      <td>October 11, 1913</td>\n",
       "      <td>December 14, 2011</td>\n",
       "    </tr>\n",
       "    <tr>\n",
       "      <td>0</td>\n",
       "      <td>/wiki/Brian_Azzarello</td>\n",
       "      <td>/wiki/Brian_Azzarello</td>\n",
       "      <td>Male</td>\n",
       "      <td>August 11, 1962</td>\n",
       "      <td></td>\n",
       "    </tr>\n",
       "    <tr>\n",
       "      <td>0</td>\n",
       "      <td>/wiki/Otto_Binder</td>\n",
       "      <td>/wiki/Otto_Binder</td>\n",
       "      <td>Male</td>\n",
       "      <td>August 26, 1911</td>\n",
       "      <td>October 13, 1974</td>\n",
       "    </tr>\n",
       "  </tbody>\n",
       "</table>\n",
       "</div>"
      ],
      "text/plain": [
       "                 Old URL                    URL Gender              Birth  \\\n",
       "0      /wiki/Jack_Miller      /wiki/Jack_Miller   Male                      \n",
       "0         /wiki/Ron_Marz         /wiki/Ron_Marz   Male  November 17, 1965   \n",
       "0        /wiki/Joe_Simon        /wiki/Joe_Simon   Male   October 11, 1913   \n",
       "0  /wiki/Brian_Azzarello  /wiki/Brian_Azzarello   Male    August 11, 1962   \n",
       "0      /wiki/Otto_Binder      /wiki/Otto_Binder   Male    August 26, 1911   \n",
       "\n",
       "               Death  \n",
       "0                     \n",
       "0                     \n",
       "0  December 14, 2011  \n",
       "0                     \n",
       "0   October 13, 1974  "
      ]
     },
     "execution_count": 29,
     "metadata": {},
     "output_type": "execute_result"
    }
   ],
   "source": [
    "new_columns = ['Old URL', 'URL', 'Gender', 'Birth', 'Death']\n",
    "gender_ed_wr = pd.DataFrame(columns=new_columns)\n",
    "\n",
    "for oldurl in dc_ed_wr['Writer URL'].unique():\n",
    "    if oldurl is not '':\n",
    "        # Initialize variables\n",
    "        URL, gender, birth, death = '', '', '', ''\n",
    "\n",
    "        editor = pd.DataFrame([[oldurl, URL, gender, birth, death]], columns = new_columns)\n",
    "        URL = oldurl\n",
    "\n",
    "        if (URL is not '') and ('/wiki/' in URL):\n",
    "            if URL[0] is not '/':\n",
    "                URL = URL[1:]\n",
    "\n",
    "            # Initialize variables\n",
    "            gender, birth, death = '', '', ''\n",
    "\n",
    "            # Get URL and use html parser\n",
    "            URL = 'https://dc.fandom.com' + URL\n",
    "\n",
    "            r = requests.get(URL)\n",
    "            page_body = r.text\n",
    "\n",
    "            soup = BeautifulSoup(page_body, 'html.parser')\n",
    "\n",
    "            URL = URL.replace('https://dc.fandom.com','')\n",
    "\n",
    "            # Parsing\n",
    "            side_tab = soup.find_all('aside', class_='portable-infobox pi-background pi-theme-wikia pi-layout-default')\n",
    "\n",
    "            for p in side_tab:\n",
    "                for pp in p.find_all('div', class_='pi-item pi-data pi-item-spacing pi-border-color'):\n",
    "                    if pp and pp.find_next('h3', class_=\"pi-data-label pi-secondary-font\"):\n",
    "                        if pp.find_next('h3', class_=\"pi-data-label pi-secondary-font\").text == 'Gender':\n",
    "                            if pp.find('div', class_='pi-data-value pi-font'):\n",
    "                                gender = pp.find('div', class_='pi-data-value pi-font').text\n",
    "                        if pp.find_next('h3', class_=\"pi-data-label pi-secondary-font\").text == 'Date of Birth':\n",
    "                            if pp.find('div', class_='pi-data-value pi-font'):\n",
    "                                birth = pp.find('div', class_='pi-data-value pi-font').text\n",
    "                        if pp.find_next('h3', class_=\"pi-data-label pi-secondary-font\").text == 'Date of Death':\n",
    "                            if pp.find('div', class_='pi-data-value pi-font'):\n",
    "                                death = pp.find('div', class_='pi-data-value pi-font').text\n",
    "\n",
    "            if URL not in gender_ed_wr['URL'].unique():\n",
    "                editor['URL'] = URL\n",
    "                editor['Gender'] = gender\n",
    "                editor['Birth'] = birth\n",
    "                editor['Death'] = death\n",
    "                \n",
    "    gender_ed_wr = gender_ed_wr.append(editor)\n",
    "\n",
    "gender_ed_wr.head()"
   ]
  },
  {
   "cell_type": "code",
   "execution_count": 31,
   "metadata": {},
   "outputs": [
    {
     "data": {
      "text/html": [
       "<div>\n",
       "<style scoped>\n",
       "    .dataframe tbody tr th:only-of-type {\n",
       "        vertical-align: middle;\n",
       "    }\n",
       "\n",
       "    .dataframe tbody tr th {\n",
       "        vertical-align: top;\n",
       "    }\n",
       "\n",
       "    .dataframe thead th {\n",
       "        text-align: right;\n",
       "    }\n",
       "</style>\n",
       "<table border=\"1\" class=\"dataframe\">\n",
       "  <thead>\n",
       "    <tr style=\"text-align: right;\">\n",
       "      <th></th>\n",
       "      <th>Old URL</th>\n",
       "      <th>URL</th>\n",
       "      <th>Gender</th>\n",
       "      <th>Birth</th>\n",
       "      <th>Death</th>\n",
       "    </tr>\n",
       "  </thead>\n",
       "  <tbody>\n",
       "    <tr>\n",
       "      <td>0</td>\n",
       "      <td>/wiki/Jack_Miller</td>\n",
       "      <td>/wiki/Jack_Miller</td>\n",
       "      <td>Male</td>\n",
       "      <td></td>\n",
       "      <td></td>\n",
       "    </tr>\n",
       "    <tr>\n",
       "      <td>0</td>\n",
       "      <td>/wiki/Ron_Marz</td>\n",
       "      <td>/wiki/Ron_Marz</td>\n",
       "      <td>Male</td>\n",
       "      <td>November 17, 1965</td>\n",
       "      <td></td>\n",
       "    </tr>\n",
       "    <tr>\n",
       "      <td>0</td>\n",
       "      <td>/wiki/Joe_Simon</td>\n",
       "      <td>/wiki/Joe_Simon</td>\n",
       "      <td>Male</td>\n",
       "      <td>October 11, 1913</td>\n",
       "      <td>December 14, 2011</td>\n",
       "    </tr>\n",
       "    <tr>\n",
       "      <td>0</td>\n",
       "      <td>/wiki/Brian_Azzarello</td>\n",
       "      <td>/wiki/Brian_Azzarello</td>\n",
       "      <td>Male</td>\n",
       "      <td>August 11, 1962</td>\n",
       "      <td></td>\n",
       "    </tr>\n",
       "    <tr>\n",
       "      <td>0</td>\n",
       "      <td>/wiki/Otto_Binder</td>\n",
       "      <td>/wiki/Otto_Binder</td>\n",
       "      <td>Male</td>\n",
       "      <td>August 26, 1911</td>\n",
       "      <td>October 13, 1974</td>\n",
       "    </tr>\n",
       "    <tr>\n",
       "      <td>...</td>\n",
       "      <td>...</td>\n",
       "      <td>...</td>\n",
       "      <td>...</td>\n",
       "      <td>...</td>\n",
       "      <td>...</td>\n",
       "    </tr>\n",
       "    <tr>\n",
       "      <td>0</td>\n",
       "      <td>/wiki/Carl_Pfeufer</td>\n",
       "      <td>/wiki/Carl_Pfeufer</td>\n",
       "      <td>Male</td>\n",
       "      <td></td>\n",
       "      <td></td>\n",
       "    </tr>\n",
       "    <tr>\n",
       "      <td>0</td>\n",
       "      <td>/wiki/Marc_Swayze</td>\n",
       "      <td>/wiki/Marc_Swayze</td>\n",
       "      <td>Male</td>\n",
       "      <td></td>\n",
       "      <td></td>\n",
       "    </tr>\n",
       "    <tr>\n",
       "      <td>0</td>\n",
       "      <td>/wiki/David_Anthony_Kraft</td>\n",
       "      <td>/wiki/David_Anthony_Kraft</td>\n",
       "      <td>Male</td>\n",
       "      <td></td>\n",
       "      <td></td>\n",
       "    </tr>\n",
       "    <tr>\n",
       "      <td>0</td>\n",
       "      <td>/wiki/Roy_Ald</td>\n",
       "      <td>/wiki/Roy_Ald</td>\n",
       "      <td>Male</td>\n",
       "      <td></td>\n",
       "      <td></td>\n",
       "    </tr>\n",
       "    <tr>\n",
       "      <td>0</td>\n",
       "      <td>/wiki/Bob_Rozakis</td>\n",
       "      <td></td>\n",
       "      <td></td>\n",
       "      <td></td>\n",
       "      <td></td>\n",
       "    </tr>\n",
       "  </tbody>\n",
       "</table>\n",
       "<p>548 rows × 5 columns</p>\n",
       "</div>"
      ],
      "text/plain": [
       "                      Old URL                        URL Gender  \\\n",
       "0           /wiki/Jack_Miller          /wiki/Jack_Miller   Male   \n",
       "0              /wiki/Ron_Marz             /wiki/Ron_Marz   Male   \n",
       "0             /wiki/Joe_Simon            /wiki/Joe_Simon   Male   \n",
       "0       /wiki/Brian_Azzarello      /wiki/Brian_Azzarello   Male   \n",
       "0           /wiki/Otto_Binder          /wiki/Otto_Binder   Male   \n",
       "..                        ...                        ...    ...   \n",
       "0          /wiki/Carl_Pfeufer         /wiki/Carl_Pfeufer   Male   \n",
       "0           /wiki/Marc_Swayze          /wiki/Marc_Swayze   Male   \n",
       "0   /wiki/David_Anthony_Kraft  /wiki/David_Anthony_Kraft   Male   \n",
       "0               /wiki/Roy_Ald              /wiki/Roy_Ald   Male   \n",
       "0           /wiki/Bob_Rozakis                                     \n",
       "\n",
       "                Birth              Death  \n",
       "0                                         \n",
       "0   November 17, 1965                     \n",
       "0    October 11, 1913  December 14, 2011  \n",
       "0     August 11, 1962                     \n",
       "0     August 26, 1911   October 13, 1974  \n",
       "..                ...                ...  \n",
       "0                                         \n",
       "0                                         \n",
       "0                                         \n",
       "0                                         \n",
       "0                                         \n",
       "\n",
       "[548 rows x 5 columns]"
      ]
     },
     "execution_count": 31,
     "metadata": {},
     "output_type": "execute_result"
    }
   ],
   "source": [
    "gender_ed_wr"
   ]
  },
  {
   "cell_type": "code",
   "execution_count": 32,
   "metadata": {},
   "outputs": [],
   "source": [
    "save_to_pickle(gender_ed_wr,'dc_wr_attributes')"
   ]
  },
  {
   "cell_type": "code",
   "execution_count": 14,
   "metadata": {},
   "outputs": [],
   "source": [
    "with open('dc_wr_attributes.txt', 'rb') as f:\n",
    "    dc_wr = pickle.load(f)"
   ]
  },
  {
   "cell_type": "code",
   "execution_count": 15,
   "metadata": {},
   "outputs": [],
   "source": [
    "with open('dc_ed_attributes.txt', 'rb') as f:\n",
    "    dc_ed = pickle.load(f)"
   ]
  },
  {
   "cell_type": "code",
   "execution_count": 19,
   "metadata": {},
   "outputs": [],
   "source": [
    "dc_ed_wr = dc_ed.append(dc_wr)"
   ]
  },
  {
   "cell_type": "code",
   "execution_count": 20,
   "metadata": {},
   "outputs": [
    {
     "data": {
      "text/html": [
       "<div>\n",
       "<style scoped>\n",
       "    .dataframe tbody tr th:only-of-type {\n",
       "        vertical-align: middle;\n",
       "    }\n",
       "\n",
       "    .dataframe tbody tr th {\n",
       "        vertical-align: top;\n",
       "    }\n",
       "\n",
       "    .dataframe thead th {\n",
       "        text-align: right;\n",
       "    }\n",
       "</style>\n",
       "<table border=\"1\" class=\"dataframe\">\n",
       "  <thead>\n",
       "    <tr style=\"text-align: right;\">\n",
       "      <th></th>\n",
       "      <th>URL</th>\n",
       "      <th>Gender</th>\n",
       "      <th>Birth</th>\n",
       "      <th>Death</th>\n",
       "    </tr>\n",
       "  </thead>\n",
       "  <tbody>\n",
       "    <tr>\n",
       "      <td>0</td>\n",
       "      <td>/wiki/Karen_Berger</td>\n",
       "      <td>Female</td>\n",
       "      <td>February 26, 1958</td>\n",
       "      <td></td>\n",
       "    </tr>\n",
       "    <tr>\n",
       "      <td>0</td>\n",
       "      <td>/wiki/Jenette_Kahn</td>\n",
       "      <td>Female</td>\n",
       "      <td>1948</td>\n",
       "      <td></td>\n",
       "    </tr>\n",
       "    <tr>\n",
       "      <td>0</td>\n",
       "      <td>/wiki/Joe_Orlando</td>\n",
       "      <td>Male</td>\n",
       "      <td>April 4, 1927</td>\n",
       "      <td>December 23, 1998</td>\n",
       "    </tr>\n",
       "    <tr>\n",
       "      <td>0</td>\n",
       "      <td>/wiki/Shelly_Bond</td>\n",
       "      <td>Female</td>\n",
       "      <td></td>\n",
       "      <td></td>\n",
       "    </tr>\n",
       "    <tr>\n",
       "      <td>0</td>\n",
       "      <td>/wiki/Dick_Giordano</td>\n",
       "      <td>Male</td>\n",
       "      <td>July 20, 1932</td>\n",
       "      <td>March 27, 2010</td>\n",
       "    </tr>\n",
       "    <tr>\n",
       "      <td>...</td>\n",
       "      <td>...</td>\n",
       "      <td>...</td>\n",
       "      <td>...</td>\n",
       "      <td>...</td>\n",
       "    </tr>\n",
       "    <tr>\n",
       "      <td>0</td>\n",
       "      <td>/wiki/Bill_Kunkel</td>\n",
       "      <td>Male</td>\n",
       "      <td></td>\n",
       "      <td></td>\n",
       "    </tr>\n",
       "    <tr>\n",
       "      <td>0</td>\n",
       "      <td>/wiki/Carl_Pfeufer</td>\n",
       "      <td>Male</td>\n",
       "      <td></td>\n",
       "      <td></td>\n",
       "    </tr>\n",
       "    <tr>\n",
       "      <td>0</td>\n",
       "      <td>/wiki/Marc_Swayze</td>\n",
       "      <td>Male</td>\n",
       "      <td></td>\n",
       "      <td></td>\n",
       "    </tr>\n",
       "    <tr>\n",
       "      <td>0</td>\n",
       "      <td>/wiki/David_Anthony_Kraft</td>\n",
       "      <td>Male</td>\n",
       "      <td></td>\n",
       "      <td></td>\n",
       "    </tr>\n",
       "    <tr>\n",
       "      <td>0</td>\n",
       "      <td>/wiki/Roy_Ald</td>\n",
       "      <td>Male</td>\n",
       "      <td></td>\n",
       "      <td></td>\n",
       "    </tr>\n",
       "  </tbody>\n",
       "</table>\n",
       "<p>568 rows × 4 columns</p>\n",
       "</div>"
      ],
      "text/plain": [
       "                          URL  Gender              Birth              Death\n",
       "0          /wiki/Karen_Berger  Female  February 26, 1958                   \n",
       "0          /wiki/Jenette_Kahn  Female               1948                   \n",
       "0           /wiki/Joe_Orlando    Male      April 4, 1927  December 23, 1998\n",
       "0           /wiki/Shelly_Bond  Female                                      \n",
       "0         /wiki/Dick_Giordano    Male      July 20, 1932     March 27, 2010\n",
       "..                        ...     ...                ...                ...\n",
       "0           /wiki/Bill_Kunkel    Male                                      \n",
       "0          /wiki/Carl_Pfeufer    Male                                      \n",
       "0           /wiki/Marc_Swayze    Male                                      \n",
       "0   /wiki/David_Anthony_Kraft    Male                                      \n",
       "0               /wiki/Roy_Ald    Male                                      \n",
       "\n",
       "[568 rows x 4 columns]"
      ]
     },
     "execution_count": 20,
     "metadata": {},
     "output_type": "execute_result"
    }
   ],
   "source": [
    "dc_ed_wr"
   ]
  },
  {
   "cell_type": "code",
   "execution_count": 21,
   "metadata": {},
   "outputs": [],
   "source": [
    "save_to_pickle(dc_ed_wr,'dc_ed_wr_attributes')"
   ]
  },
  {
   "cell_type": "markdown",
   "metadata": {},
   "source": [
    "# Analysis"
   ]
  },
  {
   "cell_type": "markdown",
   "metadata": {},
   "source": [
    "### Marvel"
   ]
  },
  {
   "cell_type": "code",
   "execution_count": 21,
   "metadata": {},
   "outputs": [],
   "source": [
    "with open('../marvel_ed_attributes.txt', 'rb') as f:\n",
    "    marvel_ed = pickle.load(f)\n",
    "with open('../marvel_wr_attributes.txt', 'rb') as f:\n",
    "    marvel_wr = pickle.load(f)"
   ]
  },
  {
   "cell_type": "code",
   "execution_count": 22,
   "metadata": {},
   "outputs": [
    {
     "data": {
      "text/plain": [
       "Male      55\n",
       "Female     9\n",
       "           2\n",
       "male       1\n",
       "Name: Gender, dtype: int64"
      ]
     },
     "execution_count": 22,
     "metadata": {},
     "output_type": "execute_result"
    }
   ],
   "source": [
    "marvel_ed['Gender'].value_counts()"
   ]
  },
  {
   "cell_type": "code",
   "execution_count": 23,
   "metadata": {},
   "outputs": [
    {
     "data": {
      "text/plain": [
       "Male          1319\n",
       "Female         167\n",
       "                72\n",
       "Non-Binary       2\n",
       "Other            1\n",
       "None             1\n",
       "Name: Gender, dtype: int64"
      ]
     },
     "execution_count": 23,
     "metadata": {},
     "output_type": "execute_result"
    }
   ],
   "source": [
    "marvel_wr['Gender'].value_counts()"
   ]
  },
  {
   "cell_type": "code",
   "execution_count": 24,
   "metadata": {},
   "outputs": [],
   "source": [
    "marvel_ed.loc[marvel_ed['Gender']=='male','Gender']='Male'\n",
    "marvel_ed.loc[marvel_ed['Gender']=='','Gender']='Unknown'\n",
    "\n",
    "marvel_wr.loc[marvel_wr['Gender']=='','Gender']='Unknown'"
   ]
  },
  {
   "cell_type": "markdown",
   "metadata": {},
   "source": [
    "**The gender `None` and `Other` corresponds to a \"Studio\", i.e. the writer is a group of people so there is no specified gender. We denote them as `Unknown`.**"
   ]
  },
  {
   "cell_type": "code",
   "execution_count": 25,
   "metadata": {},
   "outputs": [
    {
     "data": {
      "text/html": [
       "<div>\n",
       "<style scoped>\n",
       "    .dataframe tbody tr th:only-of-type {\n",
       "        vertical-align: middle;\n",
       "    }\n",
       "\n",
       "    .dataframe tbody tr th {\n",
       "        vertical-align: top;\n",
       "    }\n",
       "\n",
       "    .dataframe thead th {\n",
       "        text-align: right;\n",
       "    }\n",
       "</style>\n",
       "<table border=\"1\" class=\"dataframe\">\n",
       "  <thead>\n",
       "    <tr style=\"text-align: right;\">\n",
       "      <th></th>\n",
       "      <th>URL</th>\n",
       "      <th>Gender</th>\n",
       "      <th>Birth</th>\n",
       "      <th>Death</th>\n",
       "    </tr>\n",
       "  </thead>\n",
       "  <tbody>\n",
       "    <tr>\n",
       "      <td>0</td>\n",
       "      <td>/wiki/Man_of_Action</td>\n",
       "      <td>Other</td>\n",
       "      <td></td>\n",
       "      <td></td>\n",
       "    </tr>\n",
       "  </tbody>\n",
       "</table>\n",
       "</div>"
      ],
      "text/plain": [
       "                   URL Gender Birth Death\n",
       "0  /wiki/Man_of_Action  Other            "
      ]
     },
     "execution_count": 25,
     "metadata": {},
     "output_type": "execute_result"
    }
   ],
   "source": [
    "marvel_wr[marvel_wr['Gender']=='Other']"
   ]
  },
  {
   "cell_type": "code",
   "execution_count": 26,
   "metadata": {},
   "outputs": [],
   "source": [
    "marvel_ed.loc[marvel_ed['Gender']=='None','Gender']='Unknown'\n",
    "marvel_ed.loc[marvel_ed['Gender']=='Other','Gender']='Unknown'\n",
    "\n",
    "marvel_wr.loc[marvel_wr['Gender']=='None','Gender']='Unknown'\n",
    "marvel_wr.loc[marvel_wr['Gender']=='Other','Gender']='Unknown'"
   ]
  },
  {
   "cell_type": "code",
   "execution_count": 27,
   "metadata": {},
   "outputs": [
    {
     "data": {
      "text/plain": [
       "Male       56\n",
       "Female      9\n",
       "Unknown     2\n",
       "Name: Gender, dtype: int64"
      ]
     },
     "execution_count": 27,
     "metadata": {},
     "output_type": "execute_result"
    }
   ],
   "source": [
    "marvel_ed['Gender'].value_counts()"
   ]
  },
  {
   "cell_type": "code",
   "execution_count": 29,
   "metadata": {},
   "outputs": [
    {
     "data": {
      "text/plain": [
       "Male          1319\n",
       "Female         167\n",
       "Unknown         74\n",
       "Non-Binary       2\n",
       "Name: Gender, dtype: int64"
      ]
     },
     "execution_count": 29,
     "metadata": {},
     "output_type": "execute_result"
    }
   ],
   "source": [
    "marvel_wr['Gender'].value_counts()"
   ]
  },
  {
   "cell_type": "code",
   "execution_count": 30,
   "metadata": {},
   "outputs": [],
   "source": [
    "save_to_pickle(marvel_ed,'marvel_ed_attributes')\n",
    "save_to_pickle(marvel_wr,'marvel_wr_attributes')"
   ]
  },
  {
   "cell_type": "markdown",
   "metadata": {},
   "source": [
    "### DC"
   ]
  },
  {
   "cell_type": "code",
   "execution_count": 31,
   "metadata": {},
   "outputs": [],
   "source": [
    "with open('../dc_ed_attributes.txt', 'rb') as f:\n",
    "    dc_ed = pickle.load(f)\n",
    "with open('../dc_wr_attributes.txt', 'rb') as f:\n",
    "    dc_wr = pickle.load(f)"
   ]
  },
  {
   "cell_type": "code",
   "execution_count": 32,
   "metadata": {},
   "outputs": [
    {
     "data": {
      "text/plain": [
       "Male      66\n",
       "Female    11\n",
       "           3\n",
       "Name: Gender, dtype: int64"
      ]
     },
     "execution_count": 32,
     "metadata": {},
     "output_type": "execute_result"
    }
   ],
   "source": [
    "dc_ed['Gender'].value_counts()"
   ]
  },
  {
   "cell_type": "code",
   "execution_count": 33,
   "metadata": {},
   "outputs": [
    {
     "data": {
      "text/plain": [
       "Male      416\n",
       "Female     39\n",
       "           33\n",
       "Name: Gender, dtype: int64"
      ]
     },
     "execution_count": 33,
     "metadata": {},
     "output_type": "execute_result"
    }
   ],
   "source": [
    "dc_wr['Gender'].value_counts()"
   ]
  },
  {
   "cell_type": "code",
   "execution_count": 34,
   "metadata": {},
   "outputs": [],
   "source": [
    "dc_ed.loc[dc_ed['Gender']=='','Gender']='Unknown'\n",
    "dc_wr.loc[dc_wr['Gender']=='','Gender']='Unknown'"
   ]
  },
  {
   "cell_type": "code",
   "execution_count": 35,
   "metadata": {},
   "outputs": [
    {
     "data": {
      "text/plain": [
       "Male       66\n",
       "Female     11\n",
       "Unknown     3\n",
       "Name: Gender, dtype: int64"
      ]
     },
     "execution_count": 35,
     "metadata": {},
     "output_type": "execute_result"
    }
   ],
   "source": [
    "dc_ed['Gender'].value_counts()"
   ]
  },
  {
   "cell_type": "code",
   "execution_count": 36,
   "metadata": {},
   "outputs": [
    {
     "data": {
      "text/plain": [
       "Male       416\n",
       "Female      39\n",
       "Unknown     33\n",
       "Name: Gender, dtype: int64"
      ]
     },
     "execution_count": 36,
     "metadata": {},
     "output_type": "execute_result"
    }
   ],
   "source": [
    "dc_wr['Gender'].value_counts()"
   ]
  },
  {
   "cell_type": "code",
   "execution_count": 37,
   "metadata": {},
   "outputs": [],
   "source": [
    "save_to_pickle(dc_ed,'dc_ed_attributes')\n",
    "save_to_pickle(dc_wr,'dc_wr_attributes')"
   ]
  }
 ],
 "metadata": {
  "kernelspec": {
   "display_name": "Python 3",
   "language": "python",
   "name": "python3"
  },
  "language_info": {
   "codemirror_mode": {
    "name": "ipython",
    "version": 3
   },
   "file_extension": ".py",
   "mimetype": "text/x-python",
   "name": "python",
   "nbconvert_exporter": "python",
   "pygments_lexer": "ipython3",
   "version": "3.7.4"
  }
 },
 "nbformat": 4,
 "nbformat_minor": 2
}
