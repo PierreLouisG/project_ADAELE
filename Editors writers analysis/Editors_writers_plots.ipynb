{
 "cells": [
  {
   "cell_type": "code",
   "execution_count": 2,
   "metadata": {},
   "outputs": [],
   "source": [
    "# Import libraries\n",
    "import matplotlib.pyplot as plt\n",
    "import pandas as pd\n",
    "import numpy as np\n",
    "import pickle"
   ]
  },
  {
   "cell_type": "code",
   "execution_count": 3,
   "metadata": {},
   "outputs": [],
   "source": [
    "with open('marvel_ed_attributes.txt', 'rb') as f:\n",
    "    marvel_ed = pickle.load(f)\n",
    "with open('marvel_wr_attributes.txt', 'rb') as f:\n",
    "    marvel_wr = pickle.load(f)\n",
    "    \n",
    "with open('dc_ed_attributes.txt', 'rb') as f:\n",
    "    dc_ed = pickle.load(f)\n",
    "with open('dc_wr_attributes.txt', 'rb') as f:\n",
    "    dc_wr = pickle.load(f)"
   ]
  },
  {
   "cell_type": "code",
   "execution_count": null,
   "metadata": {},
   "outputs": [],
   "source": []
  }
 ],
 "metadata": {
  "kernelspec": {
   "display_name": "Python 3",
   "language": "python",
   "name": "python3"
  },
  "language_info": {
   "codemirror_mode": {
    "name": "ipython",
    "version": 3
   },
   "file_extension": ".py",
   "mimetype": "text/x-python",
   "name": "python",
   "nbconvert_exporter": "python",
   "pygments_lexer": "ipython3",
   "version": "3.7.4"
  }
 },
 "nbformat": 4,
 "nbformat_minor": 2
}
