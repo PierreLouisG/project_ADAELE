{
 "cells": [
  {
   "cell_type": "markdown",
   "metadata": {},
   "source": [
    "# Creativity analysis\n",
    "This notebook is a study on the creativity of both comics.\n",
    "It has the approach of the chracter as well as the writer-editor"
   ]
  },
  {
   "cell_type": "code",
   "execution_count": 1,
   "metadata": {},
   "outputs": [],
   "source": [
    "# Import libraries\n",
    "import pandas as pd\n",
    "import numpy as np\n",
    "%matplotlib inline\n",
    "import requests\n",
    "from bs4 import BeautifulSoup\n",
    "import matplotlib.pyplot as plt\n",
    "import math\n",
    "import re\n",
    "import string\n",
    "import pickle\n",
    "from collections import Counter"
   ]
  },
  {
   "cell_type": "markdown",
   "metadata": {},
   "source": [
    "Load the dataset"
   ]
  },
  {
   "cell_type": "code",
   "execution_count": 2,
   "metadata": {},
   "outputs": [],
   "source": [
    "marvel_pers = pd.read_pickle(\"data_pickle/marvel_pers_final.txt\")\n",
    "dc_pers = pd.read_pickle(\"data_pickle/dc_pers_final.txt\")\n",
    "marvel_publication = pd.read_pickle(\"data_pickle/marvel_comics_editor_writer.txt\")\n",
    "dc_publication = pd.read_pickle(\"data_pickle/dc_comics_editor_writer.txt\")"
   ]
  },
  {
   "cell_type": "markdown",
   "metadata": {},
   "source": [
    "# Analysis of the creativity over the years"
   ]
  },
  {
   "cell_type": "code",
   "execution_count": 3,
   "metadata": {},
   "outputs": [
    {
     "data": {
      "text/html": [
       "<div>\n",
       "<style scoped>\n",
       "    .dataframe tbody tr th:only-of-type {\n",
       "        vertical-align: middle;\n",
       "    }\n",
       "\n",
       "    .dataframe tbody tr th {\n",
       "        vertical-align: top;\n",
       "    }\n",
       "\n",
       "    .dataframe thead th {\n",
       "        text-align: right;\n",
       "    }\n",
       "</style>\n",
       "<table border=\"1\" class=\"dataframe\">\n",
       "  <thead>\n",
       "    <tr style=\"text-align: right;\">\n",
       "      <th></th>\n",
       "      <th>URL</th>\n",
       "      <th>Real Name</th>\n",
       "      <th>Identity</th>\n",
       "      <th>Current Alias</th>\n",
       "      <th>Citizenship</th>\n",
       "      <th>Marital Status</th>\n",
       "      <th>Occupation</th>\n",
       "      <th>Education</th>\n",
       "      <th>Gender</th>\n",
       "      <th>Height</th>\n",
       "      <th>...</th>\n",
       "      <th>Weight in float</th>\n",
       "      <th>Good_count</th>\n",
       "      <th>Bad_count</th>\n",
       "      <th>Neutral_count</th>\n",
       "      <th>Dates</th>\n",
       "      <th>Behavior</th>\n",
       "      <th>Number_of_apparitions</th>\n",
       "      <th>DatesString</th>\n",
       "      <th>years</th>\n",
       "      <th>First_apparition</th>\n",
       "    </tr>\n",
       "  </thead>\n",
       "  <tbody>\n",
       "    <tr>\n",
       "      <td>0</td>\n",
       "      <td>/wiki/Aaron_the_Aakon_(Earth-616)</td>\n",
       "      <td>Aaron</td>\n",
       "      <td>Secret Identity</td>\n",
       "      <td>Unknown</td>\n",
       "      <td>Aakon</td>\n",
       "      <td>Single</td>\n",
       "      <td>Slave trader</td>\n",
       "      <td>Unknown</td>\n",
       "      <td>Male</td>\n",
       "      <td>Unknown</td>\n",
       "      <td>...</td>\n",
       "      <td>NaN</td>\n",
       "      <td>0</td>\n",
       "      <td>0</td>\n",
       "      <td>0</td>\n",
       "      <td>[]</td>\n",
       "      <td>Good</td>\n",
       "      <td>0</td>\n",
       "      <td></td>\n",
       "      <td>[]</td>\n",
       "      <td>NaN</td>\n",
       "    </tr>\n",
       "  </tbody>\n",
       "</table>\n",
       "<p>1 rows × 27 columns</p>\n",
       "</div>"
      ],
      "text/plain": [
       "                                 URL Real Name         Identity Current Alias  \\\n",
       "0  /wiki/Aaron_the_Aakon_(Earth-616)     Aaron  Secret Identity       Unknown   \n",
       "\n",
       "  Citizenship Marital Status    Occupation Education Gender   Height  ...  \\\n",
       "0       Aakon         Single  Slave trader   Unknown   Male  Unknown  ...   \n",
       "\n",
       "  Weight in float Good_count Bad_count Neutral_count Dates  Behavior  \\\n",
       "0             NaN          0         0             0    []      Good   \n",
       "\n",
       "  Number_of_apparitions  DatesString  years  First_apparition  \n",
       "0                     0                  []               NaN  \n",
       "\n",
       "[1 rows x 27 columns]"
      ]
     },
     "execution_count": 3,
     "metadata": {},
     "output_type": "execute_result"
    }
   ],
   "source": [
    "marvel_pers.head(1)"
   ]
  },
  {
   "cell_type": "code",
   "execution_count": 4,
   "metadata": {},
   "outputs": [
    {
     "data": {
      "text/html": [
       "<div>\n",
       "<style scoped>\n",
       "    .dataframe tbody tr th:only-of-type {\n",
       "        vertical-align: middle;\n",
       "    }\n",
       "\n",
       "    .dataframe tbody tr th {\n",
       "        vertical-align: top;\n",
       "    }\n",
       "\n",
       "    .dataframe thead th {\n",
       "        text-align: right;\n",
       "    }\n",
       "</style>\n",
       "<table border=\"1\" class=\"dataframe\">\n",
       "  <thead>\n",
       "    <tr style=\"text-align: right;\">\n",
       "      <th></th>\n",
       "      <th>URL</th>\n",
       "      <th>Real Name</th>\n",
       "      <th>Identity</th>\n",
       "      <th>Current Alias</th>\n",
       "      <th>Citizenship</th>\n",
       "      <th>Good or Bad</th>\n",
       "      <th>Marital Status</th>\n",
       "      <th>Occupation</th>\n",
       "      <th>Education</th>\n",
       "      <th>Gender</th>\n",
       "      <th>...</th>\n",
       "      <th>Weight in float</th>\n",
       "      <th>Good_count</th>\n",
       "      <th>Bad_count</th>\n",
       "      <th>Neutral_count</th>\n",
       "      <th>Dates</th>\n",
       "      <th>Behavior</th>\n",
       "      <th>Number_of_apparitions</th>\n",
       "      <th>DatesString</th>\n",
       "      <th>years</th>\n",
       "      <th>First_apparition</th>\n",
       "    </tr>\n",
       "  </thead>\n",
       "  <tbody>\n",
       "    <tr>\n",
       "      <td>0</td>\n",
       "      <td>wiki/Adam_Blake_(The_Nail)</td>\n",
       "      <td>Adam Blake</td>\n",
       "      <td>Secret Identity</td>\n",
       "      <td>Captain Comet</td>\n",
       "      <td>Unknown</td>\n",
       "      <td>Good</td>\n",
       "      <td>Unknown</td>\n",
       "      <td>Unknown</td>\n",
       "      <td>Unknown</td>\n",
       "      <td>Male</td>\n",
       "      <td>...</td>\n",
       "      <td>NaN</td>\n",
       "      <td>0</td>\n",
       "      <td>0</td>\n",
       "      <td>1</td>\n",
       "      <td>[September, 2004]</td>\n",
       "      <td>Neutral</td>\n",
       "      <td>1</td>\n",
       "      <td>September, 2004</td>\n",
       "      <td>[2004]</td>\n",
       "      <td>2004.0</td>\n",
       "    </tr>\n",
       "  </tbody>\n",
       "</table>\n",
       "<p>1 rows × 28 columns</p>\n",
       "</div>"
      ],
      "text/plain": [
       "                          URL   Real Name         Identity  Current Alias  \\\n",
       "0  wiki/Adam_Blake_(The_Nail)  Adam Blake  Secret Identity  Captain Comet   \n",
       "\n",
       "  Citizenship Good or Bad Marital Status Occupation Education Gender  ...  \\\n",
       "0     Unknown        Good        Unknown    Unknown   Unknown   Male  ...   \n",
       "\n",
       "  Weight in float Good_count Bad_count Neutral_count              Dates  \\\n",
       "0             NaN          0         0             1  [September, 2004]   \n",
       "\n",
       "  Behavior  Number_of_apparitions      DatesString   years  First_apparition  \n",
       "0  Neutral                      1  September, 2004  [2004]            2004.0  \n",
       "\n",
       "[1 rows x 28 columns]"
      ]
     },
     "execution_count": 4,
     "metadata": {},
     "output_type": "execute_result"
    }
   ],
   "source": [
    "dc_pers.head(1)"
   ]
  },
  {
   "cell_type": "code",
   "execution_count": 5,
   "metadata": {},
   "outputs": [
    {
     "data": {
      "text/html": [
       "<div>\n",
       "<style scoped>\n",
       "    .dataframe tbody tr th:only-of-type {\n",
       "        vertical-align: middle;\n",
       "    }\n",
       "\n",
       "    .dataframe tbody tr th {\n",
       "        vertical-align: top;\n",
       "    }\n",
       "\n",
       "    .dataframe thead th {\n",
       "        text-align: right;\n",
       "    }\n",
       "</style>\n",
       "<table border=\"1\" class=\"dataframe\">\n",
       "  <thead>\n",
       "    <tr style=\"text-align: right;\">\n",
       "      <th></th>\n",
       "      <th>Writer</th>\n",
       "      <th>Writer URL</th>\n",
       "      <th>Editor-in-chief</th>\n",
       "      <th>Editor-in-chief URL</th>\n",
       "      <th>Publication date</th>\n",
       "    </tr>\n",
       "  </thead>\n",
       "  <tbody>\n",
       "    <tr>\n",
       "      <td>33050</td>\n",
       "      <td>Nel Yomtov</td>\n",
       "      <td>/wiki/Nelson_Yomtov</td>\n",
       "      <td>Bob Budiansky</td>\n",
       "      <td>/wiki/Bob_Budiansky</td>\n",
       "      <td>February, 1995</td>\n",
       "    </tr>\n",
       "    <tr>\n",
       "      <td>33096</td>\n",
       "      <td>Terry Kavanagh</td>\n",
       "      <td>/wiki/Terry_Kavanagh</td>\n",
       "      <td>Bob Budiansky</td>\n",
       "      <td>/wiki/Bob_Budiansky</td>\n",
       "      <td>February, 1995</td>\n",
       "    </tr>\n",
       "    <tr>\n",
       "      <td>33108</td>\n",
       "      <td>Len Kaminski</td>\n",
       "      <td>/wiki/Len_Kaminski</td>\n",
       "      <td>Bob Budiansky</td>\n",
       "      <td>/wiki/Bob_Budiansky</td>\n",
       "      <td>January, 1995</td>\n",
       "    </tr>\n",
       "    <tr>\n",
       "      <td>33179</td>\n",
       "      <td>Tom Lyle</td>\n",
       "      <td>/wiki/Tom_Lyle</td>\n",
       "      <td>Bob Budiansky</td>\n",
       "      <td>/wiki/Bob_Budiansky</td>\n",
       "      <td>February, 1995</td>\n",
       "    </tr>\n",
       "    <tr>\n",
       "      <td>33189</td>\n",
       "      <td>Todd DeZago</td>\n",
       "      <td>/wiki/Todd_DeZago</td>\n",
       "      <td>Bob Budiansky</td>\n",
       "      <td>/wiki/Bob_Budiansky</td>\n",
       "      <td>February, 1995</td>\n",
       "    </tr>\n",
       "    <tr>\n",
       "      <td>...</td>\n",
       "      <td>...</td>\n",
       "      <td>...</td>\n",
       "      <td>...</td>\n",
       "      <td>...</td>\n",
       "      <td>...</td>\n",
       "    </tr>\n",
       "    <tr>\n",
       "      <td>34438</td>\n",
       "      <td>Todd DeZago</td>\n",
       "      <td>/wiki/Todd_DeZago</td>\n",
       "      <td>Bob Budiansky</td>\n",
       "      <td>/wiki/Bob_Budiansky</td>\n",
       "      <td>February, 1996</td>\n",
       "    </tr>\n",
       "    <tr>\n",
       "      <td>34450</td>\n",
       "      <td>Tom DeFalco</td>\n",
       "      <td>/wiki/Tom_DeFalco</td>\n",
       "      <td>Bob Budiansky</td>\n",
       "      <td>/wiki/Bob_Budiansky</td>\n",
       "      <td>February, 1996</td>\n",
       "    </tr>\n",
       "    <tr>\n",
       "      <td>34461</td>\n",
       "      <td>Nelson Yomtov</td>\n",
       "      <td>/wiki/Nelson_Yomtov</td>\n",
       "      <td>Bob Budiansky</td>\n",
       "      <td>/wiki/Bob_Budiansky</td>\n",
       "      <td>April, 1996</td>\n",
       "    </tr>\n",
       "    <tr>\n",
       "      <td>34488</td>\n",
       "      <td>Dan Jurgens</td>\n",
       "      <td>/wiki/Dan_Jurgens</td>\n",
       "      <td>Bob Budiansky</td>\n",
       "      <td>/wiki/Bob_Budiansky</td>\n",
       "      <td>March, 1996</td>\n",
       "    </tr>\n",
       "    <tr>\n",
       "      <td>34489</td>\n",
       "      <td>Robbie Thompson</td>\n",
       "      <td>/wiki/Robbie_Thompson</td>\n",
       "      <td>Bob Budiansky</td>\n",
       "      <td>/wiki/Bob_Budiansky</td>\n",
       "      <td>March, 1996</td>\n",
       "    </tr>\n",
       "  </tbody>\n",
       "</table>\n",
       "<p>181 rows × 5 columns</p>\n",
       "</div>"
      ],
      "text/plain": [
       "                Writer             Writer URL Editor-in-chief  \\\n",
       "33050       Nel Yomtov    /wiki/Nelson_Yomtov   Bob Budiansky   \n",
       "33096   Terry Kavanagh   /wiki/Terry_Kavanagh   Bob Budiansky   \n",
       "33108     Len Kaminski     /wiki/Len_Kaminski   Bob Budiansky   \n",
       "33179         Tom Lyle         /wiki/Tom_Lyle   Bob Budiansky   \n",
       "33189      Todd DeZago      /wiki/Todd_DeZago   Bob Budiansky   \n",
       "...                ...                    ...             ...   \n",
       "34438      Todd DeZago      /wiki/Todd_DeZago   Bob Budiansky   \n",
       "34450      Tom DeFalco      /wiki/Tom_DeFalco   Bob Budiansky   \n",
       "34461    Nelson Yomtov    /wiki/Nelson_Yomtov   Bob Budiansky   \n",
       "34488      Dan Jurgens      /wiki/Dan_Jurgens   Bob Budiansky   \n",
       "34489  Robbie Thompson  /wiki/Robbie_Thompson   Bob Budiansky   \n",
       "\n",
       "       Editor-in-chief URL Publication date  \n",
       "33050  /wiki/Bob_Budiansky   February, 1995  \n",
       "33096  /wiki/Bob_Budiansky   February, 1995  \n",
       "33108  /wiki/Bob_Budiansky    January, 1995  \n",
       "33179  /wiki/Bob_Budiansky   February, 1995  \n",
       "33189  /wiki/Bob_Budiansky   February, 1995  \n",
       "...                    ...              ...  \n",
       "34438  /wiki/Bob_Budiansky   February, 1996  \n",
       "34450  /wiki/Bob_Budiansky   February, 1996  \n",
       "34461  /wiki/Bob_Budiansky      April, 1996  \n",
       "34488  /wiki/Bob_Budiansky      March, 1996  \n",
       "34489  /wiki/Bob_Budiansky      March, 1996  \n",
       "\n",
       "[181 rows x 5 columns]"
      ]
     },
     "execution_count": 5,
     "metadata": {},
     "output_type": "execute_result"
    }
   ],
   "source": [
    "marvel_publication[marvel_publication['Editor-in-chief']=='Bob Budiansky']"
   ]
  },
  {
   "cell_type": "code",
   "execution_count": 6,
   "metadata": {},
   "outputs": [
    {
     "data": {
      "text/html": [
       "<div>\n",
       "<style scoped>\n",
       "    .dataframe tbody tr th:only-of-type {\n",
       "        vertical-align: middle;\n",
       "    }\n",
       "\n",
       "    .dataframe tbody tr th {\n",
       "        vertical-align: top;\n",
       "    }\n",
       "\n",
       "    .dataframe thead th {\n",
       "        text-align: right;\n",
       "    }\n",
       "</style>\n",
       "<table border=\"1\" class=\"dataframe\">\n",
       "  <thead>\n",
       "    <tr style=\"text-align: right;\">\n",
       "      <th></th>\n",
       "      <th>Writer</th>\n",
       "      <th>Writer URL</th>\n",
       "      <th>Editor-in-chief</th>\n",
       "      <th>Editor-in-chief URL</th>\n",
       "      <th>Publication date</th>\n",
       "    </tr>\n",
       "  </thead>\n",
       "  <tbody>\n",
       "    <tr>\n",
       "      <td>0</td>\n",
       "      <td>Joe Caramagna</td>\n",
       "      <td>/wiki/Joe_Caramagna</td>\n",
       "      <td></td>\n",
       "      <td></td>\n",
       "      <td>January, 1943</td>\n",
       "    </tr>\n",
       "    <tr>\n",
       "      <td>1</td>\n",
       "      <td></td>\n",
       "      <td></td>\n",
       "      <td>Stan Lee</td>\n",
       "      <td>/wiki/Stan_Lee</td>\n",
       "      <td>December, 1942</td>\n",
       "    </tr>\n",
       "  </tbody>\n",
       "</table>\n",
       "</div>"
      ],
      "text/plain": [
       "          Writer           Writer URL Editor-in-chief Editor-in-chief URL  \\\n",
       "0  Joe Caramagna  /wiki/Joe_Caramagna                                       \n",
       "1                                            Stan Lee      /wiki/Stan_Lee   \n",
       "\n",
       "  Publication date  \n",
       "0    January, 1943  \n",
       "1   December, 1942  "
      ]
     },
     "execution_count": 6,
     "metadata": {},
     "output_type": "execute_result"
    }
   ],
   "source": [
    "marvel_publication.head(2)\n",
    "def clean_name_editor_marvel(name):\n",
    "    if name == 'Axel alonso':\n",
    "        return 'Axel Alonso'\n",
    "    if name == 'Joe Queseda':\n",
    "        return 'Joe Quesada'\n",
    "    if name == 'Neil  Tennant':\n",
    "        return 'Neil Tennant'\n",
    "    if name == 'Vince Fago':\n",
    "        return 'Vincent Fago'\n",
    "    if name == 'bob Budiansky':\n",
    "        return 'Bob Budiansky'\n",
    "    else:\n",
    "        return name\n",
    "marvel_publication['Editor-in-chief'] = marvel_publication['Editor-in-chief'].apply(clean_name_editor_marvel)\n",
    "marvel_publication.head(2)"
   ]
  },
  {
   "cell_type": "code",
   "execution_count": 7,
   "metadata": {},
   "outputs": [
    {
     "data": {
      "text/html": [
       "<div>\n",
       "<style scoped>\n",
       "    .dataframe tbody tr th:only-of-type {\n",
       "        vertical-align: middle;\n",
       "    }\n",
       "\n",
       "    .dataframe tbody tr th {\n",
       "        vertical-align: top;\n",
       "    }\n",
       "\n",
       "    .dataframe thead th {\n",
       "        text-align: right;\n",
       "    }\n",
       "</style>\n",
       "<table border=\"1\" class=\"dataframe\">\n",
       "  <thead>\n",
       "    <tr style=\"text-align: right;\">\n",
       "      <th></th>\n",
       "      <th>Writer</th>\n",
       "      <th>Writer URL</th>\n",
       "      <th>Editor-in-chief</th>\n",
       "      <th>Editor-in-chief URL</th>\n",
       "      <th>Publication date</th>\n",
       "    </tr>\n",
       "  </thead>\n",
       "  <tbody>\n",
       "    <tr>\n",
       "      <td>0</td>\n",
       "      <td></td>\n",
       "      <td></td>\n",
       "      <td>Karen Berger</td>\n",
       "      <td>/wiki/Karen_Berger</td>\n",
       "      <td>November, 2005</td>\n",
       "    </tr>\n",
       "    <tr>\n",
       "      <td>1</td>\n",
       "      <td></td>\n",
       "      <td></td>\n",
       "      <td>Karen Berger</td>\n",
       "      <td>/wiki/Karen_Berger</td>\n",
       "      <td>August, 2001</td>\n",
       "    </tr>\n",
       "  </tbody>\n",
       "</table>\n",
       "</div>"
      ],
      "text/plain": [
       "  Writer Writer URL Editor-in-chief Editor-in-chief URL Publication date\n",
       "0                      Karen Berger  /wiki/Karen_Berger   November, 2005\n",
       "1                      Karen Berger  /wiki/Karen_Berger     August, 2001"
      ]
     },
     "execution_count": 7,
     "metadata": {},
     "output_type": "execute_result"
    }
   ],
   "source": [
    "dc_publication.head(2)"
   ]
  },
  {
   "cell_type": "code",
   "execution_count": 8,
   "metadata": {},
   "outputs": [],
   "source": [
    "def clean_years(l):\n",
    "    if l is None:\n",
    "        new_l = []\n",
    "    else:\n",
    "        new_l = [year for year in l if year>1930]\n",
    "        \n",
    "    return new_l\n",
    "    \n",
    "dc_pers['years'] = dc_pers['years'].apply(clean_years)\n",
    "marvel_pers['years'] = marvel_pers['years'].apply(clean_years)\n",
    "dc_pers['years']\n",
    "dc_pers['First_apparition'] = dc_pers['years'].apply(lambda x: min(x) if len(x)!=0 else None)    \n",
    "marvel_pers['First_apparition'] = marvel_pers['years'].apply(lambda x: min(x) if len(x)!=0 else None)    \n"
   ]
  },
  {
   "cell_type": "code",
   "execution_count": 9,
   "metadata": {},
   "outputs": [
    {
     "name": "stderr",
     "output_type": "stream",
     "text": [
      "/Users/jordanmetz/anaconda3/envs/ada/lib/python3.7/site-packages/ipykernel_launcher.py:11: UserWarning: Matplotlib is currently using module://ipykernel.pylab.backend_inline, which is a non-GUI backend, so cannot show the figure.\n",
      "  # This is added back by InteractiveShellApp.init_path()\n"
     ]
    },
    {
     "data": {
      "image/png": "[encoded data removed]",
      "text/plain": [
       "<Figure size 1008x576 with 1 Axes>"
      ]
     },
     "metadata": {
      "needs_background": "light"
     },
     "output_type": "display_data"
    }
   ],
   "source": [
    "marvel_new_pers = marvel_pers['First_apparition'].value_counts()\n",
    "dc_new_pers = dc_pers['First_apparition'].value_counts()\n",
    "\n",
    "fig, axs = plt.subplots(1, 1, figsize=(14,8))\n",
    "axs.bar(x = marvel_new_pers.index, height = marvel_new_pers, color='red');\n",
    "axs.bar(x = dc_new_pers.index, height = dc_new_pers, color='blue');\n",
    "axs.set_title('Number of new character over the years', fontsize=18)\n",
    "axs.set_xlabel('Year')\n",
    "axs.set_ylabel('Count')\n",
    "axs.legend(['Marvel Comics', 'DC Comics']);\n",
    "fig.show()\n",
    "plt.savefig('img/author/nb_new_character_year.png')"
   ]
  },
  {
   "cell_type": "code",
   "execution_count": 10,
   "metadata": {},
   "outputs": [
    {
     "name": "stderr",
     "output_type": "stream",
     "text": [
      "/Users/jordanmetz/anaconda3/envs/ada/lib/python3.7/site-packages/pandas/core/ops/__init__.py:1115: FutureWarning: elementwise comparison failed; returning scalar instead, but in the future will perform elementwise comparison\n",
      "  result = method(y)\n"
     ]
    }
   ],
   "source": [
    "def extract_year(s):\n",
    "    l = re.findall(r'\\d+',s)\n",
    "    if l is None:\n",
    "        print('Error')\n",
    "    for i in l:\n",
    "        if i==np.nan:\n",
    "            print('Error nan')\n",
    "        if int(i)>1930:\n",
    "            return int(i)\n",
    "    return 'to_delete'\n",
    "\n",
    "marvel_publication['Year'] = marvel_publication['Publication date'].apply(extract_year)\n",
    "dc_publication['Year'] = dc_publication['Publication date'].apply(extract_year)\n",
    "#delete row to_delete\n",
    "marvel_publication.drop(index=marvel_publication[marvel_publication['Year']=='to_delete'].index,inplace=True) \n",
    "dc_publication.drop(index=dc_publication[dc_publication['Year']=='to_delete'].index,inplace=True) "
   ]
  },
  {
   "cell_type": "code",
   "execution_count": 11,
   "metadata": {},
   "outputs": [
    {
     "name": "stderr",
     "output_type": "stream",
     "text": [
      "/Users/jordanmetz/anaconda3/envs/ada/lib/python3.7/site-packages/ipykernel_launcher.py:12: UserWarning: Matplotlib is currently using module://ipykernel.pylab.backend_inline, which is a non-GUI backend, so cannot show the figure.\n",
      "  if sys.path[0] == '':\n"
     ]
    },
    {
     "data": {
      "image/png": "[encoded data removed]",
      "text/plain": [
       "<Figure size 1008x576 with 1 Axes>"
      ]
     },
     "metadata": {
      "needs_background": "light"
     },
     "output_type": "display_data"
    }
   ],
   "source": [
    "marvel_new_pub = marvel_publication['Year'].value_counts()\n",
    "dc_new_pub = dc_publication['Year'].value_counts()\n",
    "\n",
    "fig, axs = plt.subplots(1, 1, figsize=(14,8))\n",
    "axs.bar(x = dc_new_pub.index, height = dc_new_pub, color='blue',alpha=0.5);\n",
    "axs.bar(x = marvel_new_pub.index, height = marvel_new_pub, color='red',alpha=0.5);\n",
    "\n",
    "axs.set_title('Number of publications over the years', fontsize=18)\n",
    "axs.set_xlabel('Year')\n",
    "axs.set_ylabel('Count')\n",
    "axs.legend(['Marvel Comics', 'DC Comics']);\n",
    "fig.show()\n",
    "plt.savefig('img/author/nb_publication_year.png')"
   ]
  },
  {
   "cell_type": "code",
   "execution_count": 12,
   "metadata": {},
   "outputs": [],
   "source": [
    "#groupby Editor-in-chief\n",
    "marvel_editor = marvel_publication.groupby('Editor-in-chief')['Year'].apply(list).to_frame()\n",
    "dc_editor = dc_publication.groupby('Editor-in-chief')['Year'].apply(list).to_frame()\n",
    "#groupby Writers\n",
    "marvel_writer = marvel_publication.groupby('Writer')['Year'].apply(list).to_frame()\n",
    "dc_writer = dc_publication.groupby('Writer')['Year'].apply(list).to_frame()\n",
    "\n",
    "#rename column year\n",
    "marvel_editor.rename(columns={'Year':'Years'},inplace=True)\n",
    "dc_editor.rename(columns={'Year':'Years'},inplace=True)\n",
    "marvel_writer.rename(columns={'Year':'Years'},inplace=True)\n",
    "dc_writer.rename(columns={'Year':'Years'},inplace=True)\n",
    "\n",
    "#delete duplicates in list\n",
    "#marvel_editor['Years'] = marvel_editor['Years'].apply(lambda mylist: list(dict.fromkeys(mylist)))\n",
    "#dc_editor['Years'] = dc_editor['Years'].apply(lambda mylist: list(dict.fromkeys(mylist)))\n",
    "#marvel_writer['Years'] = marvel_writer['Years'].apply(lambda mylist: list(dict.fromkeys(mylist)))\n",
    "#dc_writer['Years'] = dc_writer['Years'].apply(lambda mylist: list(dict.fromkeys(mylist)))\n",
    "\n",
    "#Find first year, last year, and number of year\n",
    "marvel_editor['Last year'] = marvel_editor['Years'].apply(lambda l: max(l))\n",
    "marvel_editor['First year'] = marvel_editor['Years'].apply(lambda l: min(l))\n",
    "marvel_editor['Nb years'] = marvel_editor['Last year']-marvel_editor['First year']\n",
    "\n",
    "dc_editor['Last year'] = dc_editor['Years'].apply(lambda l: max(l))\n",
    "dc_editor['First year'] = dc_editor['Years'].apply(lambda l: min(l))\n",
    "dc_editor['Nb years'] = dc_editor['Last year']-dc_editor['First year']\n",
    "\n",
    "marvel_writer['Last year'] = marvel_writer['Years'].apply(lambda l: max(l))\n",
    "marvel_writer['First year'] = marvel_writer['Years'].apply(lambda l: min(l))\n",
    "marvel_writer['Nb years'] = marvel_writer['Last year']-marvel_writer['First year']\n",
    "\n",
    "dc_writer['Last year'] = dc_writer['Years'].apply(lambda l: max(l))\n",
    "dc_writer['First year'] = dc_writer['Years'].apply(lambda l: min(l))\n",
    "dc_writer['Nb years'] = dc_writer['Last year']-dc_writer['First year']\n",
    "\n",
    "#find number of publications for each editor and writer\n",
    "marvel_editor['Nb publications'] = marvel_publication['Editor-in-chief'].value_counts()\n",
    "dc_editor['Nb publications'] = dc_publication['Editor-in-chief'].value_counts()\n",
    "marvel_writer['Nb publications'] = marvel_publication['Writer'].value_counts()\n",
    "dc_writer['Nb publications'] = dc_publication['Writer'].value_counts()\n",
    "\n",
    "#delete the unknown row\n",
    "marvel_editor.drop('',inplace=True)\n",
    "dc_editor.drop('',inplace=True)\n",
    "marvel_writer.drop('',inplace=True)\n",
    "dc_writer.drop('',inplace=True)"
   ]
  },
  {
   "cell_type": "code",
   "execution_count": 13,
   "metadata": {},
   "outputs": [
    {
     "name": "stderr",
     "output_type": "stream",
     "text": [
      "/Users/jordanmetz/anaconda3/envs/ada/lib/python3.7/site-packages/ipykernel_launcher.py:24: UserWarning: Matplotlib is currently using module://ipykernel.pylab.backend_inline, which is a non-GUI backend, so cannot show the figure.\n"
     ]
    },
    {
     "data": {
      "image/png": "[encoded data removed]",
      "text/plain": [
       "<Figure size 864x864 with 4 Axes>"
      ]
     },
     "metadata": {
      "needs_background": "light"
     },
     "output_type": "display_data"
    }
   ],
   "source": [
    "fig, axs = plt.subplots(2, 2, figsize=(12,12))\n",
    "axs[0,0].hist(marvel_editor['Nb years'], color = 'red',\\\n",
    "            bins=max(marvel_editor['Nb years'])-min(marvel_editor['Nb years']))\n",
    "axs[0,0].set_title('Nb of year as Editor in chief at Marvel')\n",
    "axs[0,0].set_xlabel('Nb of year')\n",
    "axs[0,0].set_ylabel('Count')\n",
    "\n",
    "axs[0,1].hist(dc_editor['Nb years'], color = 'blue',\\\n",
    "            bins=max(dc_editor['Nb years'])-min(dc_editor['Nb years']))\n",
    "axs[0,1].set_title('Nb of year as Editor in chief at DC comics')\n",
    "axs[0,1].set_xlabel('Nb of year')\n",
    "axs[0,1].set_ylabel('Count')\n",
    "\n",
    "axs[1,0].hist(marvel_editor['Nb publications'], color = 'red', bins=30)\n",
    "axs[1,0].set_title('Nb of publications as Editor in chief at Marvel')\n",
    "axs[1,0].set_xlabel('Nb of publication')\n",
    "axs[1,0].set_ylabel('Count')\n",
    "\n",
    "axs[1,1].hist(dc_editor['Nb publications'], color = 'blue', bins=30)\n",
    "axs[1,1].set_title('Nb of publications as Editor in chief at DC comics')\n",
    "axs[1,1].set_xlabel('Nb of publications')\n",
    "axs[1,1].set_ylabel('Count')\n",
    "\n",
    "fig.show()\n",
    "plt.savefig('img/author/histogram_author_performance.png')"
   ]
  },
  {
   "cell_type": "markdown",
   "metadata": {},
   "source": [
    "calculate the best editor in chief:\n",
    "$$\\text{score} = \\frac{\\text{Nb publications}}{\\text{Nb years}+1} $$"
   ]
  },
  {
   "cell_type": "code",
   "execution_count": 14,
   "metadata": {},
   "outputs": [],
   "source": [
    "marvel_editor['Score'] = marvel_editor['Nb publications']/(marvel_editor['Nb years']+1)\n",
    "dc_editor['Score'] = dc_editor['Nb publications']/(dc_editor['Nb years']+1)\n",
    "marvel_writer['Score'] = marvel_writer['Nb publications']/(marvel_writer['Nb years']+1)\n",
    "dc_writer['Score'] = dc_writer['Nb publications']/(dc_writer['Nb years']+1)\n",
    "\n",
    "#extract the best\n",
    "best_marvel_editor = list(marvel_editor['Score'].sort_values(ascending=False).head(10).index)\n",
    "best_dc_editor = list(dc_editor['Score'].sort_values(ascending=False).head(10).index)\n",
    "best_marvel_writer = list(marvel_writer['Score'].sort_values(ascending=False).head(10).index)\n",
    "best_dc_writer = list(dc_writer['Score'].sort_values(ascending=False).head(10).index)\n",
    "\n"
   ]
  },
  {
   "cell_type": "code",
   "execution_count": 15,
   "metadata": {},
   "outputs": [
    {
     "data": {
      "text/html": [
       "<div>\n",
       "<style scoped>\n",
       "    .dataframe tbody tr th:only-of-type {\n",
       "        vertical-align: middle;\n",
       "    }\n",
       "\n",
       "    .dataframe tbody tr th {\n",
       "        vertical-align: top;\n",
       "    }\n",
       "\n",
       "    .dataframe thead th {\n",
       "        text-align: right;\n",
       "    }\n",
       "</style>\n",
       "<table border=\"1\" class=\"dataframe\">\n",
       "  <thead>\n",
       "    <tr style=\"text-align: right;\">\n",
       "      <th></th>\n",
       "      <th>Years</th>\n",
       "      <th>Last year</th>\n",
       "      <th>First year</th>\n",
       "      <th>Nb years</th>\n",
       "      <th>Nb publications</th>\n",
       "      <th>Score</th>\n",
       "    </tr>\n",
       "    <tr>\n",
       "      <th>Editor-in-chief</th>\n",
       "      <th></th>\n",
       "      <th></th>\n",
       "      <th></th>\n",
       "      <th></th>\n",
       "      <th></th>\n",
       "      <th></th>\n",
       "    </tr>\n",
       "  </thead>\n",
       "  <tbody>\n",
       "    <tr>\n",
       "      <td>C.B. Cebulski</td>\n",
       "      <td>[2015, 2018, 2018, 2018, 2018, 2018, 2018, 201...</td>\n",
       "      <td>2020</td>\n",
       "      <td>2015</td>\n",
       "      <td>5</td>\n",
       "      <td>3049</td>\n",
       "      <td>508.166667</td>\n",
       "    </tr>\n",
       "    <tr>\n",
       "      <td>Joe Quesada</td>\n",
       "      <td>[1987, 1987, 1987, 1987, 1987, 1987, 1987, 198...</td>\n",
       "      <td>2015</td>\n",
       "      <td>1979</td>\n",
       "      <td>36</td>\n",
       "      <td>13350</td>\n",
       "      <td>360.810811</td>\n",
       "    </tr>\n",
       "    <tr>\n",
       "      <td>Tom DeFalco</td>\n",
       "      <td>[1987, 1987, 1987, 1987, 1987, 1987, 1987, 198...</td>\n",
       "      <td>2011</td>\n",
       "      <td>1986</td>\n",
       "      <td>25</td>\n",
       "      <td>9136</td>\n",
       "      <td>351.384615</td>\n",
       "    </tr>\n",
       "    <tr>\n",
       "      <td>Bob Harras</td>\n",
       "      <td>[1995, 1995, 1995, 1995, 1995, 1994, 1995, 199...</td>\n",
       "      <td>2006</td>\n",
       "      <td>1994</td>\n",
       "      <td>12</td>\n",
       "      <td>3829</td>\n",
       "      <td>294.538462</td>\n",
       "    </tr>\n",
       "    <tr>\n",
       "      <td>Axel Alonso</td>\n",
       "      <td>[1978, 1978, 1998, 1998, 1998, 1998, 1998, 199...</td>\n",
       "      <td>2020</td>\n",
       "      <td>1977</td>\n",
       "      <td>43</td>\n",
       "      <td>8995</td>\n",
       "      <td>204.431818</td>\n",
       "    </tr>\n",
       "    <tr>\n",
       "      <td>Vincent Fago</td>\n",
       "      <td>[1943, 1943, 1943, 1942, 1942, 1942, 1943, 194...</td>\n",
       "      <td>1945</td>\n",
       "      <td>1941</td>\n",
       "      <td>4</td>\n",
       "      <td>797</td>\n",
       "      <td>159.400000</td>\n",
       "    </tr>\n",
       "    <tr>\n",
       "      <td>Roy Thomas</td>\n",
       "      <td>[1972, 1972, 1972, 1972, 1972, 1972, 1972, 197...</td>\n",
       "      <td>1978</td>\n",
       "      <td>1972</td>\n",
       "      <td>6</td>\n",
       "      <td>1006</td>\n",
       "      <td>143.714286</td>\n",
       "    </tr>\n",
       "    <tr>\n",
       "      <td>Stan Lee</td>\n",
       "      <td>[1942, 1941, 1941, 1941, 1941, 1941, 1941, 194...</td>\n",
       "      <td>2004</td>\n",
       "      <td>1941</td>\n",
       "      <td>63</td>\n",
       "      <td>8353</td>\n",
       "      <td>130.515625</td>\n",
       "    </tr>\n",
       "    <tr>\n",
       "      <td>Jim Shooter</td>\n",
       "      <td>[1977, 1978, 1978, 1978, 1978, 1978, 1978, 197...</td>\n",
       "      <td>2017</td>\n",
       "      <td>1966</td>\n",
       "      <td>51</td>\n",
       "      <td>5524</td>\n",
       "      <td>106.230769</td>\n",
       "    </tr>\n",
       "    <tr>\n",
       "      <td>Joe Simon</td>\n",
       "      <td>[1940, 1940, 1940, 1940, 1940, 1940, 1940, 194...</td>\n",
       "      <td>1941</td>\n",
       "      <td>1940</td>\n",
       "      <td>1</td>\n",
       "      <td>210</td>\n",
       "      <td>105.000000</td>\n",
       "    </tr>\n",
       "  </tbody>\n",
       "</table>\n",
       "</div>"
      ],
      "text/plain": [
       "                                                             Years  Last year  \\\n",
       "Editor-in-chief                                                                 \n",
       "C.B. Cebulski    [2015, 2018, 2018, 2018, 2018, 2018, 2018, 201...       2020   \n",
       "Joe Quesada      [1987, 1987, 1987, 1987, 1987, 1987, 1987, 198...       2015   \n",
       "Tom DeFalco      [1987, 1987, 1987, 1987, 1987, 1987, 1987, 198...       2011   \n",
       "Bob Harras       [1995, 1995, 1995, 1995, 1995, 1994, 1995, 199...       2006   \n",
       "Axel Alonso      [1978, 1978, 1998, 1998, 1998, 1998, 1998, 199...       2020   \n",
       "Vincent Fago     [1943, 1943, 1943, 1942, 1942, 1942, 1943, 194...       1945   \n",
       "Roy Thomas       [1972, 1972, 1972, 1972, 1972, 1972, 1972, 197...       1978   \n",
       "Stan Lee         [1942, 1941, 1941, 1941, 1941, 1941, 1941, 194...       2004   \n",
       "Jim Shooter      [1977, 1978, 1978, 1978, 1978, 1978, 1978, 197...       2017   \n",
       "Joe Simon        [1940, 1940, 1940, 1940, 1940, 1940, 1940, 194...       1941   \n",
       "\n",
       "                 First year  Nb years  Nb publications       Score  \n",
       "Editor-in-chief                                                     \n",
       "C.B. Cebulski          2015         5             3049  508.166667  \n",
       "Joe Quesada            1979        36            13350  360.810811  \n",
       "Tom DeFalco            1986        25             9136  351.384615  \n",
       "Bob Harras             1994        12             3829  294.538462  \n",
       "Axel Alonso            1977        43             8995  204.431818  \n",
       "Vincent Fago           1941         4              797  159.400000  \n",
       "Roy Thomas             1972         6             1006  143.714286  \n",
       "Stan Lee               1941        63             8353  130.515625  \n",
       "Jim Shooter            1966        51             5524  106.230769  \n",
       "Joe Simon              1940         1              210  105.000000  "
      ]
     },
     "execution_count": 15,
     "metadata": {},
     "output_type": "execute_result"
    }
   ],
   "source": [
    "marvel_editor.loc[best_marvel_editor]"
   ]
  },
  {
   "cell_type": "code",
   "execution_count": 16,
   "metadata": {},
   "outputs": [
    {
     "data": {
      "text/html": [
       "<div>\n",
       "<style scoped>\n",
       "    .dataframe tbody tr th:only-of-type {\n",
       "        vertical-align: middle;\n",
       "    }\n",
       "\n",
       "    .dataframe tbody tr th {\n",
       "        vertical-align: top;\n",
       "    }\n",
       "\n",
       "    .dataframe thead th {\n",
       "        text-align: right;\n",
       "    }\n",
       "</style>\n",
       "<table border=\"1\" class=\"dataframe\">\n",
       "  <thead>\n",
       "    <tr style=\"text-align: right;\">\n",
       "      <th></th>\n",
       "      <th>Years</th>\n",
       "      <th>Last year</th>\n",
       "      <th>First year</th>\n",
       "      <th>Nb years</th>\n",
       "      <th>Nb publications</th>\n",
       "      <th>Score</th>\n",
       "    </tr>\n",
       "    <tr>\n",
       "      <th>Writer</th>\n",
       "      <th></th>\n",
       "      <th></th>\n",
       "      <th></th>\n",
       "      <th></th>\n",
       "      <th></th>\n",
       "      <th></th>\n",
       "    </tr>\n",
       "  </thead>\n",
       "  <tbody>\n",
       "    <tr>\n",
       "      <td>Ron Marz</td>\n",
       "      <td>[1997, 1997, 2013, 2014, 2006, 1997, 1997, 199...</td>\n",
       "      <td>2020</td>\n",
       "      <td>1935</td>\n",
       "      <td>85</td>\n",
       "      <td>16187</td>\n",
       "      <td>188.220930</td>\n",
       "    </tr>\n",
       "    <tr>\n",
       "      <td>Will Ely</td>\n",
       "      <td>[1938, 1938, 1938, 1939, 1939, 1939, 1939, 193...</td>\n",
       "      <td>1940</td>\n",
       "      <td>1937</td>\n",
       "      <td>3</td>\n",
       "      <td>72</td>\n",
       "      <td>18.000000</td>\n",
       "    </tr>\n",
       "    <tr>\n",
       "      <td>Mike Baron</td>\n",
       "      <td>[1988, 1988, 1988, 1988, 1988, 1988, 1988, 198...</td>\n",
       "      <td>1988</td>\n",
       "      <td>1988</td>\n",
       "      <td>0</td>\n",
       "      <td>15</td>\n",
       "      <td>15.000000</td>\n",
       "    </tr>\n",
       "    <tr>\n",
       "      <td>Peter David</td>\n",
       "      <td>[1988, 1988, 1988, 1988, 1988, 1988, 1988, 198...</td>\n",
       "      <td>1988</td>\n",
       "      <td>1988</td>\n",
       "      <td>0</td>\n",
       "      <td>13</td>\n",
       "      <td>13.000000</td>\n",
       "    </tr>\n",
       "    <tr>\n",
       "      <td>John B. Wentworth</td>\n",
       "      <td>[1942, 1942, 1941, 1941, 1941, 1941, 1946, 194...</td>\n",
       "      <td>1948</td>\n",
       "      <td>1939</td>\n",
       "      <td>9</td>\n",
       "      <td>115</td>\n",
       "      <td>11.500000</td>\n",
       "    </tr>\n",
       "    <tr>\n",
       "      <td>Christopher Priest</td>\n",
       "      <td>[1988, 1988, 1988, 1988, 1988, 1988, 1988, 198...</td>\n",
       "      <td>1989</td>\n",
       "      <td>1988</td>\n",
       "      <td>1</td>\n",
       "      <td>20</td>\n",
       "      <td>10.000000</td>\n",
       "    </tr>\n",
       "    <tr>\n",
       "      <td>Ted Udall</td>\n",
       "      <td>[1943, 1943, 1942, 1943, 1942, 1942, 1943, 194...</td>\n",
       "      <td>1944</td>\n",
       "      <td>1942</td>\n",
       "      <td>2</td>\n",
       "      <td>29</td>\n",
       "      <td>9.666667</td>\n",
       "    </tr>\n",
       "    <tr>\n",
       "      <td>Sharon Wright</td>\n",
       "      <td>[1988, 1988, 1988, 1988, 1988, 1988, 1988, 198...</td>\n",
       "      <td>1989</td>\n",
       "      <td>1988</td>\n",
       "      <td>1</td>\n",
       "      <td>19</td>\n",
       "      <td>9.500000</td>\n",
       "    </tr>\n",
       "    <tr>\n",
       "      <td>Max Allan Collins</td>\n",
       "      <td>[1988, 1988, 1988, 1988, 1988, 1988, 1988, 198...</td>\n",
       "      <td>1989</td>\n",
       "      <td>1988</td>\n",
       "      <td>1</td>\n",
       "      <td>18</td>\n",
       "      <td>9.000000</td>\n",
       "    </tr>\n",
       "    <tr>\n",
       "      <td>Mike Carey</td>\n",
       "      <td>[2007, 2007, 2007, 2007, 2007, 2007, 2008, 200...</td>\n",
       "      <td>2008</td>\n",
       "      <td>2007</td>\n",
       "      <td>1</td>\n",
       "      <td>18</td>\n",
       "      <td>9.000000</td>\n",
       "    </tr>\n",
       "  </tbody>\n",
       "</table>\n",
       "</div>"
      ],
      "text/plain": [
       "                                                                Years  \\\n",
       "Writer                                                                  \n",
       "Ron Marz            [1997, 1997, 2013, 2014, 2006, 1997, 1997, 199...   \n",
       "Will Ely            [1938, 1938, 1938, 1939, 1939, 1939, 1939, 193...   \n",
       "Mike Baron          [1988, 1988, 1988, 1988, 1988, 1988, 1988, 198...   \n",
       "Peter David         [1988, 1988, 1988, 1988, 1988, 1988, 1988, 198...   \n",
       "John B. Wentworth   [1942, 1942, 1941, 1941, 1941, 1941, 1946, 194...   \n",
       "Christopher Priest  [1988, 1988, 1988, 1988, 1988, 1988, 1988, 198...   \n",
       "Ted Udall           [1943, 1943, 1942, 1943, 1942, 1942, 1943, 194...   \n",
       "Sharon Wright       [1988, 1988, 1988, 1988, 1988, 1988, 1988, 198...   \n",
       "Max Allan Collins   [1988, 1988, 1988, 1988, 1988, 1988, 1988, 198...   \n",
       "Mike Carey          [2007, 2007, 2007, 2007, 2007, 2007, 2008, 200...   \n",
       "\n",
       "                    Last year  First year  Nb years  Nb publications  \\\n",
       "Writer                                                                 \n",
       "Ron Marz                 2020        1935        85            16187   \n",
       "Will Ely                 1940        1937         3               72   \n",
       "Mike Baron               1988        1988         0               15   \n",
       "Peter David              1988        1988         0               13   \n",
       "John B. Wentworth        1948        1939         9              115   \n",
       "Christopher Priest       1989        1988         1               20   \n",
       "Ted Udall                1944        1942         2               29   \n",
       "Sharon Wright            1989        1988         1               19   \n",
       "Max Allan Collins        1989        1988         1               18   \n",
       "Mike Carey               2008        2007         1               18   \n",
       "\n",
       "                         Score  \n",
       "Writer                          \n",
       "Ron Marz            188.220930  \n",
       "Will Ely             18.000000  \n",
       "Mike Baron           15.000000  \n",
       "Peter David          13.000000  \n",
       "John B. Wentworth    11.500000  \n",
       "Christopher Priest   10.000000  \n",
       "Ted Udall             9.666667  \n",
       "Sharon Wright         9.500000  \n",
       "Max Allan Collins     9.000000  \n",
       "Mike Carey            9.000000  "
      ]
     },
     "execution_count": 16,
     "metadata": {},
     "output_type": "execute_result"
    }
   ],
   "source": [
    "dc_writer.loc[best_dc_writer]"
   ]
  },
  {
   "cell_type": "code",
   "execution_count": 17,
   "metadata": {},
   "outputs": [
    {
     "data": {
      "text/plain": [
       "['Ron Marz',\n",
       " 'Will Ely',\n",
       " 'Mike Baron',\n",
       " 'Peter David',\n",
       " 'John B. Wentworth',\n",
       " 'Christopher Priest',\n",
       " 'Ted Udall',\n",
       " 'Sharon Wright',\n",
       " 'Max Allan Collins',\n",
       " 'Mike Carey']"
      ]
     },
     "execution_count": 17,
     "metadata": {},
     "output_type": "execute_result"
    }
   ],
   "source": [
    "best_dc_writer"
   ]
  },
  {
   "cell_type": "code",
   "execution_count": 18,
   "metadata": {},
   "outputs": [
    {
     "data": {
      "text/html": [
       "<div>\n",
       "<style scoped>\n",
       "    .dataframe tbody tr th:only-of-type {\n",
       "        vertical-align: middle;\n",
       "    }\n",
       "\n",
       "    .dataframe tbody tr th {\n",
       "        vertical-align: top;\n",
       "    }\n",
       "\n",
       "    .dataframe thead th {\n",
       "        text-align: right;\n",
       "    }\n",
       "</style>\n",
       "<table border=\"1\" class=\"dataframe\">\n",
       "  <thead>\n",
       "    <tr style=\"text-align: right;\">\n",
       "      <th></th>\n",
       "      <th>Years</th>\n",
       "      <th>Last year</th>\n",
       "      <th>First year</th>\n",
       "      <th>Nb years</th>\n",
       "      <th>Nb publications</th>\n",
       "      <th>Score</th>\n",
       "    </tr>\n",
       "    <tr>\n",
       "      <th>Editor-in-chief</th>\n",
       "      <th></th>\n",
       "      <th></th>\n",
       "      <th></th>\n",
       "      <th></th>\n",
       "      <th></th>\n",
       "      <th></th>\n",
       "    </tr>\n",
       "  </thead>\n",
       "  <tbody>\n",
       "    <tr>\n",
       "      <td>Alan Class</td>\n",
       "      <td>[1966, 1966, 2015, 2015, 1981, 1979, 1979, 197...</td>\n",
       "      <td>2015</td>\n",
       "      <td>1966</td>\n",
       "      <td>49</td>\n",
       "      <td>10</td>\n",
       "      <td>0.2</td>\n",
       "    </tr>\n",
       "  </tbody>\n",
       "</table>\n",
       "</div>"
      ],
      "text/plain": [
       "                                                             Years  Last year  \\\n",
       "Editor-in-chief                                                                 \n",
       "Alan Class       [1966, 1966, 2015, 2015, 1981, 1979, 1979, 197...       2015   \n",
       "\n",
       "                 First year  Nb years  Nb publications  Score  \n",
       "Editor-in-chief                                                \n",
       "Alan Class             1966        49               10    0.2  "
      ]
     },
     "execution_count": 18,
     "metadata": {},
     "output_type": "execute_result"
    }
   ],
   "source": [
    "marvel_editor.head(1)"
   ]
  },
  {
   "cell_type": "code",
   "execution_count": 19,
   "metadata": {},
   "outputs": [
    {
     "data": {
      "text/html": [
       "<div>\n",
       "<style scoped>\n",
       "    .dataframe tbody tr th:only-of-type {\n",
       "        vertical-align: middle;\n",
       "    }\n",
       "\n",
       "    .dataframe tbody tr th {\n",
       "        vertical-align: top;\n",
       "    }\n",
       "\n",
       "    .dataframe thead th {\n",
       "        text-align: right;\n",
       "    }\n",
       "</style>\n",
       "<table border=\"1\" class=\"dataframe\">\n",
       "  <thead>\n",
       "    <tr style=\"text-align: right;\">\n",
       "      <th></th>\n",
       "      <th>Years</th>\n",
       "      <th>Last year</th>\n",
       "      <th>First year</th>\n",
       "      <th>Nb years</th>\n",
       "      <th>Nb publications</th>\n",
       "      <th>Score</th>\n",
       "    </tr>\n",
       "    <tr>\n",
       "      <th>Writer</th>\n",
       "      <th></th>\n",
       "      <th></th>\n",
       "      <th></th>\n",
       "      <th></th>\n",
       "      <th></th>\n",
       "      <th></th>\n",
       "    </tr>\n",
       "  </thead>\n",
       "  <tbody>\n",
       "    <tr>\n",
       "      <td>A. Smithee</td>\n",
       "      <td>[1999]</td>\n",
       "      <td>1999</td>\n",
       "      <td>1999</td>\n",
       "      <td>0</td>\n",
       "      <td>1</td>\n",
       "      <td>1.0</td>\n",
       "    </tr>\n",
       "  </tbody>\n",
       "</table>\n",
       "</div>"
      ],
      "text/plain": [
       "              Years  Last year  First year  Nb years  Nb publications  Score\n",
       "Writer                                                                      \n",
       " A. Smithee  [1999]       1999        1999         0                1    1.0"
      ]
     },
     "execution_count": 19,
     "metadata": {},
     "output_type": "execute_result"
    }
   ],
   "source": [
    "marvel_writer.head(1)"
   ]
  },
  {
   "cell_type": "code",
   "execution_count": 22,
   "metadata": {},
   "outputs": [
    {
     "name": "stdout",
     "output_type": "stream",
     "text": [
      "[1. 1. 0. 0.]\n"
     ]
    },
    {
     "name": "stderr",
     "output_type": "stream",
     "text": [
      "/Users/jordanmetz/anaconda3/envs/ada/lib/python3.7/site-packages/ipykernel_launcher.py:66: UserWarning: Matplotlib is currently using module://ipykernel.pylab.backend_inline, which is a non-GUI backend, so cannot show the figure.\n"
     ]
    },
    {
     "data": {
      "image/png": "[encoded data removed]",
      "text/plain": [
       "<Figure size 1008x864 with 2 Axes>"
      ]
     },
     "metadata": {
      "needs_background": "light"
     },
     "output_type": "display_data"
    }
   ],
   "source": [
    "def plot_author(author):\n",
    "    n = 0\n",
    "    k = 0\n",
    "    is_ = np.empty(4)\n",
    "    activity = dict([])\n",
    "    try:\n",
    "        activity[k] = pd.Series(marvel_editor.loc[author,'Years']).value_counts()\n",
    "        is_[n] = 1\n",
    "        k += 1\n",
    "    except:\n",
    "        is_[n] = 0\n",
    "    n+=1\n",
    "    try:\n",
    "        activity[k] = pd.Series(marvel_writer.loc[author,'Years']).value_counts()\n",
    "        is_[n] = 1\n",
    "        k += 1\n",
    "    except:\n",
    "        is_[n] = 0\n",
    "    n+=1\n",
    "    try:\n",
    "        activity[k] = pd.Series(dc_author.loc[author,'Years']).value_counts()\n",
    "        is_[n] = 1\n",
    "        k += 1\n",
    "    except:\n",
    "        is_[n] = 0\n",
    "    n+=1\n",
    "    try:\n",
    "        activity[k] = pd.Series(dc_writer.loc[author,'Years']).value_counts()\n",
    "        is_[n] = 1\n",
    "        k += 1\n",
    "    except:\n",
    "        is_[n] = 0\n",
    "    n+=1\n",
    "    fig, axs = plt.subplots(k,1,figsize=(14,k*6))\n",
    "    l = 0\n",
    "    for j in range(4):\n",
    "        if is_[j]:\n",
    "            if k==1:\n",
    "                if j==0 or j==1:\n",
    "                    axs.bar(x = activity[l].index, height = activity[l], width = 1, color='red')\n",
    "                else:\n",
    "                    axs.bar(x = activity[l].index, height = activity[l], width = 1, color='blue')\n",
    "                axs.set_xlabel('Year')\n",
    "                axs.set_ylabel('Nb publications')\n",
    "                axs.set_xlim(1930,2020)\n",
    "                if j == 0 or j==2:\n",
    "                    axs.set_title(author + ' as Editor-in-Chief')\n",
    "                else:\n",
    "                    axs.set_title(author + ' as Writer')\n",
    "                l+=1\n",
    "            else:\n",
    "                if j==0 or j==1:\n",
    "                    axs[l].bar(x = activity[l].index, height = activity[l], width = 1, color='red')\n",
    "                else:\n",
    "                    axs[l].bar(x = activity[l].index, height = activity[l], width = 1, color='blue')\n",
    "                axs[l].set_xlabel('Year')\n",
    "                axs[l].set_ylabel('Nb publications')\n",
    "                axs[l].set_xlim(1930,2020)\n",
    "                if j == 0 or j==2:\n",
    "                    axs[l].set_title(author + ' as Editor-in-Chief')\n",
    "                else:\n",
    "                    axs[l].set_title(author + ' as Writer')\n",
    "                l+=1\n",
    "                    \n",
    "    print(is_)\n",
    "    fig.show()\n",
    "    plt.savefig('img/author/'+author+'.png')\n",
    "\n",
    "plot_author('Stan Lee')\n"
   ]
  },
  {
   "cell_type": "markdown",
   "metadata": {},
   "source": [
    "***Find the boss of the journal***"
   ]
  },
  {
   "cell_type": "code",
   "execution_count": 23,
   "metadata": {
    "scrolled": true
   },
   "outputs": [
    {
     "data": {
      "text/plain": [
       "1971          Stan Lee\n",
       "1972        Roy Thomas\n",
       "1973        Roy Thomas\n",
       "1974          Len Wein\n",
       "1975      Marv Wolfman\n",
       "1976      Gerry Conway\n",
       "1977    Archie Goodwin\n",
       "1978       Jim Shooter\n",
       "1979       Jim Shooter\n",
       "1980       Jim Shooter\n",
       "1981       Jim Shooter\n",
       "1982       Jim Shooter\n",
       "1983       Jim Shooter\n",
       "1984       Jim Shooter\n",
       "1985       Jim Shooter\n",
       "1986       Jim Shooter\n",
       "1987       Jim Shooter\n",
       "1988       Tom DeFalco\n",
       "1989       Tom DeFalco\n",
       "1990       Tom DeFalco\n",
       "1991       Tom DeFalco\n",
       "1992       Tom DeFalco\n",
       "1993       Tom DeFalco\n",
       "1994       Tom DeFalco\n",
       "1995        Bob Harras\n",
       "1996        Bob Harras\n",
       "1997        Bob Harras\n",
       "1998        Bob Harras\n",
       "1999        Bob Harras\n",
       "2000        Bob Harras\n",
       "2001       Joe Quesada\n",
       "2002       Joe Quesada\n",
       "2003       Joe Quesada\n",
       "2004       Joe Quesada\n",
       "2005       Joe Quesada\n",
       "2006       Joe Quesada\n",
       "2007       Joe Quesada\n",
       "2008       Joe Quesada\n",
       "2009       Joe Quesada\n",
       "2010       Joe Quesada\n",
       "2011       Axel Alonso\n",
       "2012       Axel Alonso\n",
       "2013       Axel Alonso\n",
       "2014       Axel Alonso\n",
       "2015       Axel Alonso\n",
       "2016       Axel Alonso\n",
       "2017       Axel Alonso\n",
       "2018     C.B. Cebulski\n",
       "2019     C.B. Cebulski\n",
       "2020     C.B. Cebulski\n",
       "dtype: object"
      ]
     },
     "execution_count": 23,
     "metadata": {},
     "output_type": "execute_result"
    }
   ],
   "source": [
    "years = range(1930,2021)\n",
    "boss_marvel = pd.Series([])\n",
    "for year in years:\n",
    "    marvel_editor[year]=0\n",
    "    for name in marvel_editor.index:\n",
    "        marvel_editor.loc[name,year]=len([y for y in marvel_editor.loc[name]['Years'] if y==year])\n",
    "    if max(marvel_editor[year])==0:\n",
    "        boss_marvel[year] = None\n",
    "    else:\n",
    "        boss_marvel[year]= marvel_editor[marvel_editor[year] == max(marvel_editor[year])].index[0]\n",
    "boss_marvel.tail(50)"
   ]
  },
  {
   "cell_type": "code",
   "execution_count": 24,
   "metadata": {
    "scrolled": true
   },
   "outputs": [
    {
     "data": {
      "text/plain": [
       "1971    Carmine Infantino\n",
       "1972      Julius Schwartz\n",
       "1973      Julius Schwartz\n",
       "1974     Murray Boltinoff\n",
       "1975      Julius Schwartz\n",
       "1976         Jenette Kahn\n",
       "1977          Joe Orlando\n",
       "1978          Joe Orlando\n",
       "1979          Joe Orlando\n",
       "1980          Joe Orlando\n",
       "1981          Joe Orlando\n",
       "1982          Joe Orlando\n",
       "1983        Dick Giordano\n",
       "1984        Dick Giordano\n",
       "1985        Dick Giordano\n",
       "1986        Dick Giordano\n",
       "1987        Dick Giordano\n",
       "1988        Dick Giordano\n",
       "1989        Dick Giordano\n",
       "1990        Dick Giordano\n",
       "1991        Dick Giordano\n",
       "1992        Dick Giordano\n",
       "1993        Dick Giordano\n",
       "1994         Jenette Kahn\n",
       "1995         Jenette Kahn\n",
       "1996          Mike Carlin\n",
       "1997          Mike Carlin\n",
       "1998          Mike Carlin\n",
       "1999          Mike Carlin\n",
       "2000          Mike Carlin\n",
       "2001          Mike Carlin\n",
       "2002            Dan DiDio\n",
       "2003            Dan DiDio\n",
       "2004            Dan DiDio\n",
       "2005            Dan DiDio\n",
       "2006            Dan DiDio\n",
       "2007            Dan DiDio\n",
       "2008            Dan DiDio\n",
       "2009            Dan DiDio\n",
       "2010            Dan DiDio\n",
       "2011       Eddie Berganza\n",
       "2012       Eddie Berganza\n",
       "2013         Bobbie Chase\n",
       "2014         Bobbie Chase\n",
       "2015         Bobbie Chase\n",
       "2016         Bobbie Chase\n",
       "2017         Bobbie Chase\n",
       "2018         Bobbie Chase\n",
       "2019         Bobbie Chase\n",
       "2020         Pat McCallum\n",
       "dtype: object"
      ]
     },
     "execution_count": 24,
     "metadata": {},
     "output_type": "execute_result"
    }
   ],
   "source": [
    "years = range(1930,2021)\n",
    "boss_dc = pd.Series([])\n",
    "for year in years:\n",
    "    dc_editor[year]=0\n",
    "    for name in dc_editor.index:\n",
    "        dc_editor.loc[name,year]=len([y for y in dc_editor.loc[name]['Years'] if y==year])\n",
    "    if max(dc_editor[year])==0:\n",
    "        boss_dc[year] = None\n",
    "    else:\n",
    "        boss_dc[year]= dc_editor[dc_editor[year] == max(dc_editor[year])].index[0]\n",
    "boss_dc.tail(50)"
   ]
  },
  {
   "cell_type": "code",
   "execution_count": 25,
   "metadata": {},
   "outputs": [
    {
     "data": {
      "text/plain": [
       "['Martin Goodman',\n",
       " 'Joe Simon',\n",
       " 'Stan Lee',\n",
       " 'Vincent Fago',\n",
       " 'Roy Thomas',\n",
       " 'Len Wein',\n",
       " 'Marv Wolfman',\n",
       " 'Gerry Conway',\n",
       " 'Archie Goodwin',\n",
       " 'Jim Shooter',\n",
       " 'Tom DeFalco',\n",
       " 'Bob Harras',\n",
       " 'Joe Quesada',\n",
       " 'Axel Alonso',\n",
       " 'C.B. Cebulski']"
      ]
     },
     "execution_count": 25,
     "metadata": {},
     "output_type": "execute_result"
    }
   ],
   "source": [
    "pd.DataFrame(boss_marvel).drop_duplicates(keep='first').drop(1930)[0].tolist()"
   ]
  },
  {
   "cell_type": "code",
   "execution_count": 26,
   "metadata": {},
   "outputs": [
    {
     "data": {
      "text/plain": [
       "['Vincent Fago',\n",
       " 'Joe Simon',\n",
       " 'Martin Goodman',\n",
       " 'Archie Goodwin',\n",
       " 'Marv Wolfman',\n",
       " 'Joe Quesada',\n",
       " 'Gerry Conway',\n",
       " 'Jim Shooter',\n",
       " 'C.B. Cebulski',\n",
       " 'Tom DeFalco',\n",
       " 'Roy Thomas',\n",
       " 'Bob Harras',\n",
       " 'Axel Alonso',\n",
       " 'Stan Lee',\n",
       " 'Len Wein']"
      ]
     },
     "execution_count": 26,
     "metadata": {},
     "output_type": "execute_result"
    }
   ],
   "source": [
    "names = list(set(boss_marvel.tolist()))\n",
    "names.remove(None)\n",
    "names"
   ]
  },
  {
   "cell_type": "code",
   "execution_count": 27,
   "metadata": {
    "scrolled": false
   },
   "outputs": [
    {
     "name": "stderr",
     "output_type": "stream",
     "text": [
      "/Users/jordanmetz/anaconda3/envs/ada/lib/python3.7/site-packages/ipykernel_launcher.py:13: UserWarning: Matplotlib is currently using module://ipykernel.pylab.backend_inline, which is a non-GUI backend, so cannot show the figure.\n",
      "  del sys.path[0]\n"
     ]
    },
    {
     "data": {
      "image/png": "[encoded data removed]",
      "text/plain": [
       "<Figure size 1008x720 with 1 Axes>"
      ]
     },
     "metadata": {
      "needs_background": "light"
     },
     "output_type": "display_data"
    }
   ],
   "source": [
    "years = list(range(1930,2021))\n",
    "fig, axs = plt.subplots(1,1,figsize=(14,10))\n",
    "names = list(set(boss_marvel.tolist()))\n",
    "names.remove(None)\n",
    "#for name in marvel_editor[marvel_editor['Nb years']>5].sort_values(by='First year',ascending=False).index:\n",
    "names= pd.DataFrame(boss_marvel).drop_duplicates(keep='first').drop(1930)[0].tolist()\n",
    "names.reverse()\n",
    "for name in names:\n",
    "    #check if he worked the year\n",
    "    worked = np.array([int(year in marvel_editor.loc[name].Years) for year in years ])\n",
    "    axs.barh(name, worked, left=years, color='red', height=0.9,)\n",
    "axs.set_title('Year of activity as Editor-in-chief at Marvel Comics')\n",
    "fig.show()\n",
    "plt.savefig('img/author/year_activity_editor_Marvel.png')"
   ]
  },
  {
   "cell_type": "code",
   "execution_count": 28,
   "metadata": {},
   "outputs": [
    {
     "name": "stderr",
     "output_type": "stream",
     "text": [
      "/Users/jordanmetz/anaconda3/envs/ada/lib/python3.7/site-packages/ipykernel_launcher.py:11: UserWarning: Matplotlib is currently using module://ipykernel.pylab.backend_inline, which is a non-GUI backend, so cannot show the figure.\n",
      "  # This is added back by InteractiveShellApp.init_path()\n"
     ]
    },
    {
     "data": {
      "image/png": "[encoded data removed]",
      "text/plain": [
       "<Figure size 1080x720 with 1 Axes>"
      ]
     },
     "metadata": {
      "needs_background": "light"
     },
     "output_type": "display_data"
    }
   ],
   "source": [
    "years = list(range(1930,2021))\n",
    "fig, axs = plt.subplots(1,1,figsize=(15,10))\n",
    "#names=dc_editor[dc_editor['Nb years']>5].sort_values(by='First year',ascending=False).index\n",
    "names= pd.DataFrame(boss_dc).drop_duplicates(keep='first').drop(1930)[0].tolist()\n",
    "names.reverse()\n",
    "for name in names:\n",
    "    #check if he worked the year\n",
    "    worked = np.array([int(year in dc_editor.loc[name].Years) for year in years ])\n",
    "    axs.barh(name, worked, left=years, color='blue', height=0.9,)\n",
    "axs.set_title('Year of activity as Editor-in-chief at DC Comics')\n",
    "fig.show()\n",
    "plt.savefig('img/author/year_activity_editor_DC.png')"
   ]
  },
  {
   "cell_type": "code",
   "execution_count": 29,
   "metadata": {},
   "outputs": [
    {
     "data": {
      "image/png": "[encoded data removed]",
      "text/plain": [
       "<Figure size 1008x576 with 1 Axes>"
      ]
     },
     "metadata": {
      "needs_background": "light"
     },
     "output_type": "display_data"
    }
   ],
   "source": [
    "marvel_new_pers = marvel_pers['First_apparition'].value_counts()\n",
    "dc_new_pers = dc_pers['First_apparition'].value_counts()\n",
    "\n",
    "fig, axs = plt.subplots(1, 1, figsize=(14,8))\n",
    "axs.bar(x = marvel_new_pers.index, height = marvel_new_pers, color='red');\n",
    "axs.bar(x = dc_new_pers.index, height = dc_new_pers, color='blue');\n",
    "axs.set_title('Number of new character over the years', fontsize=18)\n",
    "axs.set_xlabel('Year')\n",
    "axs.set_ylabel('Count')\n",
    "axs.legend(['Marvel Comics', 'DC Comics']);\n"
   ]
  }
 ],
 "metadata": {
  "kernelspec": {
   "display_name": "Python [conda env:ada] *",
   "language": "python",
   "name": "conda-env-ada-py"
  },
  "language_info": {
   "codemirror_mode": {
    "name": "ipython",
    "version": 3
   },
   "file_extension": ".py",
   "mimetype": "text/x-python",
   "name": "python",
   "nbconvert_exporter": "python",
   "pygments_lexer": "ipython3",
   "version": "3.7.4"
  }
 },
 "nbformat": 4,
 "nbformat_minor": 2
}
