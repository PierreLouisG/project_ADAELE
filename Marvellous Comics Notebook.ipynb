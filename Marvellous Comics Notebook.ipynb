{
 "cells": [
  {
   "cell_type": "markdown",
   "metadata": {},
   "source": [
    "# Marvellous Comics: mirror of society?\n",
    "Superheroes and villains in comics can have a real impact on society. They’re supposed to represent what’s good and bad. Thus, the way the character is portrayed will have an influence on the reader. If for example all villains are part of the same minority, people will unconsciously see them in real life as bad people. Moreover, a character like Tony Stark could inspire people to study engineering. And these are just examples to illustrate the power comics can have on us.\n",
    "We can thus study this choice of characters, how diverse it is, and if there is a tendency towards a specific portrait for superheroes and villains. "
   ]
  },
  {
   "cell_type": "code",
   "execution_count": 2,
   "metadata": {},
   "outputs": [],
   "source": [
    "# Import libraries\n",
    "import pandas as pd\n",
    "import numpy as np\n",
    "%matplotlib inline\n",
    "import requests\n",
    "from bs4 import BeautifulSoup\n",
    "import matplotlib.pyplot as plt\n",
    "import math\n",
    "import re\n",
    "import string"
   ]
  },
  {
   "cell_type": "code",
   "execution_count": 3,
   "metadata": {},
   "outputs": [],
   "source": [
    "marvel_pers = pd.read_pickle(\"marvel_pers_clean.txt\")"
   ]
  },
  {
   "cell_type": "markdown",
   "metadata": {},
   "source": [
    "**We tried different plot to see if we still manage to get some informations even with some unknown**"
   ]
  },
  {
   "cell_type": "code",
   "execution_count": null,
   "metadata": {},
   "outputs": [],
   "source": [
    "nb_unknown = marvel_pers[\"Marital Status\"].value_counts()['Unknown']\n",
    "hist_marital = marvel_pers[\"Marital Status\"].value_counts().drop('Unknown')\n",
    "\n",
    "# Plot histogram\n",
    "fig, axs = plt.subplots(1, 1, figsize=(14,8))\n",
    "axs.bar(x = hist_marital.index, height = hist_marital);\n",
    "axs.set_title('Marital Status')\n",
    "axs.set_xlabel('Marital status')\n",
    "axs.set_ylabel('Count')\n",
    "axs.set_yscale('log')\n",
    "for i, v in enumerate(hist_marital):\n",
    "    axs.text(hist_marital.index[i], v*1.05, str(v), color='black', fontsize=12, horizontalalignment='center')"
   ]
  },
  {
   "cell_type": "code",
   "execution_count": null,
   "metadata": {},
   "outputs": [],
   "source": [
    "# Plot the distribution of height\n",
    "\n",
    "# Number of unknown and variable\n",
    "nb_unknown = marvel_pers[\"Height\"].value_counts()['Unknown']+marvel_pers[\"Height\"].value_counts()['Variable']\n",
    "# Filter the data to avoid outliers\n",
    "height_hist = marvel_pers[(marvel_pers[\"Height in float\"]!=np.nan)\\\n",
    "                         &(marvel_pers[\"Height in float\"]<500)]['Height in float']\n",
    "\n",
    "# Plot histogram\n",
    "fig, axs = plt.subplots(1, 1, figsize=(14,8))\n",
    "axs.hist(height_hist,bins=50);\n",
    "axs.set_title('Distribution of the Height of the character')\n",
    "axs.set_xlabel('Height [cm]')\n",
    "axs.set_ylabel('Count')\n",
    "plt.xticks(np.arange(0, max(height_hist)+10, 20.0));"
   ]
  },
  {
   "cell_type": "code",
   "execution_count": null,
   "metadata": {},
   "outputs": [],
   "source": [
    "# Plot the distribution of Weight\n",
    "\n",
    "# Number of unknown and variable\n",
    "nb_unknown = personnage[\"Weight\"].value_counts()['Unknown']+personnage[\"Weight\"].value_counts()['Variable']\n",
    "# Filter the data to avoid outliers\n",
    "weight_hist = personnage[(personnage[\"Weight in float\"]!=np.nan)\\\n",
    "                         &(personnage[\"Weight in float\"]<500)]['Weight in float']\n",
    "\n",
    "# Plot histogram\n",
    "fig, axs = plt.subplots(1, 1, figsize=(14,8))\n",
    "axs.hist(weight_hist,bins=75);\n",
    "axs.set_title('Distribution of the weight of the character')\n",
    "axs.set_xlabel('Weight [kg]')\n",
    "axs.set_ylabel('Count')\n",
    "plt.xticks(np.arange(0, max(height_hist)+10, 20.0));"
   ]
  },
  {
   "cell_type": "code",
   "execution_count": null,
   "metadata": {},
   "outputs": [],
   "source": [
    "Gender_df = pd.DataFrame(marvel_pers['Gender'].value_counts())\\\n",
    "              .reset_index()\n",
    "Gender_df.columns = ['Gender', 'count']\n",
    "Gender_df['count'] = Gender_df['count'].apply(lambda x: math.sqrt(x))\\\n",
    "                                       .round(2)\n",
    "ax = Gender_df.plot.bar(x='Gender', y='count', rot=0, figsize=(8,8))\n",
    "ax.set_xlabel('\\nGender', fontsize=15)\n",
    "ax.set_ylabel('sqrt(Count)\\n', fontsize=15)\n",
    "ax.set_title('Gender of the Marvel Characters\\n', fontsize=15)\n",
    "plt.grid(axis='y')"
   ]
  },
  {
   "cell_type": "code",
   "execution_count": null,
   "metadata": {},
   "outputs": [],
   "source": [
    "dc_pers = pd.read_pickle(\"dc_pers_clean.txt\")"
   ]
  },
  {
   "cell_type": "code",
   "execution_count": null,
   "metadata": {},
   "outputs": [],
   "source": [
    "nb_unknown = dc_pers[\"Marital Status\"].value_counts()['Unknown']\n",
    "hist_marital = dc_pers[\"Marital Status\"].value_counts().drop('Unknown')\n",
    "\n",
    "# Plot histogram\n",
    "fig, axs = plt.subplots(1, 1, figsize=(14,8))\n",
    "axs.bar(x = hist_marital.index, height = hist_marital);\n",
    "axs.set_title('Marital Status')\n",
    "axs.set_xlabel('Marital status')\n",
    "axs.set_ylabel('Count')\n",
    "axs.set_yscale('log')\n",
    "for i, v in enumerate(hist_marital):\n",
    "    axs.text(hist_marital.index[i], v*1.05, str(v), color='black', fontsize=12, horizontalalignment='center')"
   ]
  },
  {
   "cell_type": "code",
   "execution_count": null,
   "metadata": {},
   "outputs": [],
   "source": [
    "# Plot the distribution of height\n",
    "\n",
    "# Number of unknown and variable\n",
    "nb_unknown = dc_pers_df[\"Height\"].value_counts()['Unknown']\n",
    "#filter the data to avoid outliers\n",
    "height_hist = dc_pers_df[(dc_pers_df[\"Height in float\"]!=np.nan)\\\n",
    "                         &(dc_pers_df[\"Height in float\"]<500)]['Height in float']\n",
    "\n",
    "# Plot histogram\n",
    "fig, axs = plt.subplots(1, 1, figsize=(14,8))\n",
    "axs.hist(height_hist,bins=50);\n",
    "axs.set_title('Distribution of the Height of the character')\n",
    "axs.set_xlabel('Height [cm]')\n",
    "axs.set_ylabel('Count')\n",
    "plt.xticks(np.arange(0, max(height_hist)+10, 20.0))"
   ]
  },
  {
   "cell_type": "code",
   "execution_count": null,
   "metadata": {},
   "outputs": [],
   "source": [
    "# Plot the distribution of Weight\n",
    "\n",
    "# Number of unknown and variable\n",
    "nb_unknown = dc_pers_df[\"Weight\"].value_counts()['Unknown']+dc_pers_df[\"Weight\"].value_counts()['Variable ']\n",
    "# Filter the data to avoid outliers\n",
    "weight_hist = dc_pers_df[(dc_pers_df[\"Weight in float\"]!=np.nan)\\\n",
    "                         &(dc_pers_df[\"Weight in float\"]<500)]['Weight in float']\n",
    "\n",
    "# Plot histogram\n",
    "fig, axs = plt.subplots(1, 1, figsize=(14,8))\n",
    "axs.hist(weight_hist,bins=75);\n",
    "axs.set_title('Distribution of the weight of the character')\n",
    "axs.set_xlabel('Weight [kg]')\n",
    "axs.set_ylabel('Count')\n",
    "plt.xticks(np.arange(0, max(height_hist)+10, 20.0));"
   ]
  },
  {
   "cell_type": "code",
   "execution_count": null,
   "metadata": {},
   "outputs": [],
   "source": []
  }
 ],
 "metadata": {
  "kernelspec": {
   "display_name": "Python [conda env:ada] *",
   "language": "python",
   "name": "conda-env-ada-py"
  },
  "language_info": {
   "codemirror_mode": {
    "name": "ipython",
    "version": 3
   },
   "file_extension": ".py",
   "mimetype": "text/x-python",
   "name": "python",
   "nbconvert_exporter": "python",
   "pygments_lexer": "ipython3",
   "version": "3.7.4"
  }
 },
 "nbformat": 4,
 "nbformat_minor": 2
}
